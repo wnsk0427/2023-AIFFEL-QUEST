{
 "cells": [
  {
   "cell_type": "markdown",
   "metadata": {
    "id": "EEBQ6F7xI4is"
   },
   "source": [
    "# A walk through latent space with Stable Diffusion\n",
    "\n",
    "**Authors:** Ian Stenbit, [fchollet](https://twitter.com/fchollet), [lukewood](https://twitter.com/luke_wood_ml)<br>\n",
    "**Date created:** 2022/09/28<br>\n",
    "**Last modified:** 2022/09/28<br>\n",
    "**Description:** Explore the latent manifold of Stable Diffusion.\n",
    "\n",
    "**한국어/추가설명** Kwangsuk Park<br>\n",
    "**덧붙인 날** 2023/09/17"
   ]
  },
  {
   "cell_type": "markdown",
   "metadata": {
    "id": "3LKIm30_c0KF"
   },
   "source": [
    "해당 내용은 케라스 공식 홈페이지의 code example로 제공되는 stable diffusion 예제입니다\n",
    "https://keras.io/examples/generative/random_walks_with_stable_diffusion/\n",
    "\n",
    "잠재 공간에 특징이 어떻게 학습이 되었고, 표현되는지, 프롬프트를 섞어 사용하면서 살펴보는 예제입니다! 설명도 재밌게 잘 되어있어, 읽어보시면 좋겠습니다:D\n",
    "하지만 시간이 촉박한 경우라면 노드의 설명을, 혹은 영어가 어렵다면 성능좋은 번역 인공지능 deepL (https://www.deepl.com/translator) 을 확인하시는 걸 추천드릴게요!\n",
    "\n",
    "다만, 라이브러리 호환성이 제작 당시와 지금이 맞지 않아, 진행이 원활하지 않을 수 있으며, 특히 코랩 환경의 경우 렉이 발생할 수 있음을 유의해주세요!"
   ]
  },
  {
   "cell_type": "code",
   "execution_count": 1,
   "metadata": {
    "colab": {
     "base_uri": "https://localhost:8080/"
    },
    "executionInfo": {
     "elapsed": 16796,
     "status": "ok",
     "timestamp": 1695104843808,
     "user": {
      "displayName": "JunKyu Cho (jdino6505)",
      "userId": "02446244499510317946"
     },
     "user_tz": -540
    },
    "id": "2NzS9FdlHsi3",
    "outputId": "9d5faaa0-52cd-4679-8cea-2310bfddb495"
   },
   "outputs": [
    {
     "name": "stdout",
     "output_type": "stream",
     "text": [
      "Mounted at /content/drive\n"
     ]
    }
   ],
   "source": [
    "from google.colab import drive\n",
    "drive.mount('/content/drive')"
   ]
  },
  {
   "cell_type": "code",
   "execution_count": 10,
   "metadata": {
    "executionInfo": {
     "elapsed": 923,
     "status": "ok",
     "timestamp": 1695111959147,
     "user": {
      "displayName": "JunKyu Cho (jdino6505)",
      "userId": "02446244499510317946"
     },
     "user_tz": -540
    },
    "id": "XSyou2XEIdFS"
   },
   "outputs": [],
   "source": [
    "DRIVE_PATH = './drive/MyDrive/Colab Notebooks/aiffel/outputs/'"
   ]
  },
  {
   "cell_type": "markdown",
   "metadata": {
    "id": "3B0l2DqRI4iv"
   },
   "source": [
    "## Overview\n",
    "\n",
    "Generative image models learn a \"latent manifold\" of the visual world:\n",
    "a low-dimensional vector space where each point maps to an image.\n",
    "Going from such a point on the manifold back to a displayable image\n",
    "is called \"decoding\" -- in the Stable Diffusion model, this is handled by\n",
    "the \"decoder\" model.\n",
    "\n",
    "![The Stable Diffusion architecture](https://i.imgur.com/2uC8rYJ.png)\n",
    "\n",
    "This latent manifold of images is continuous and interpolative, meaning that:\n",
    "\n",
    "1. Moving a little on the manifold only changes the corresponding image a little (continuity).\n",
    "2. For any two points A and B on the manifold (i.e. any two images), it is possible\n",
    "to move from A to B via a path where each intermediate point is also on the manifold (i.e.\n",
    "is also a valid image). Intermediate points would be called \"interpolations\" between\n",
    "the two starting images.\n",
    "\n",
    "Stable Diffusion isn't just an image model, though, it's also a natural language model.\n",
    "It has two latent spaces: the image representation space learned by the\n",
    "encoder used during training, and the prompt latent space\n",
    "which is learned using a combination of pretraining and training-time\n",
    "fine-tuning.\n",
    "\n",
    "_Latent space walking_, or _latent space exploration_, is the process of\n",
    "sampling a point in latent space and incrementally changing the latent\n",
    "representation. Its most common application is generating animations\n",
    "where each sampled point is fed to the decoder and is stored as a\n",
    "frame in the final animation.\n",
    "For high-quality latent representations, this produces coherent-looking\n",
    "animations. These animations can provide insight into the feature map of the\n",
    "latent space, and can ultimately lead to improvements in the training\n",
    "process. One such GIF is displayed below:\n",
    "\n",
    "![Panda to Plane](https://keras.io/img/examples/generative/random_walks_with_stable_diffusion/panda2plane.gif)\n",
    "\n",
    "In this guide, we will show how to take advantage of the Stable Diffusion API\n",
    "in KerasCV to perform prompt interpolation and circular walks through\n",
    "Stable Diffusion's visual latent manifold, as well as through\n",
    "the text encoder's latent manifold.\n",
    "\n",
    "This guide assumes the reader has a\n",
    "high-level understanding of Stable Diffusion.\n",
    "If you haven't already, you should start\n",
    "by reading the [Stable Diffusion Tutorial](https://keras.io/guides/keras_cv/generate_images_with_stable_diffusion/).\n",
    "\n",
    "To start, we import KerasCV and load up a Stable Diffusion model using the\n",
    "optimizations discussed in the tutorial\n",
    "[Generate images with Stable Diffusion](https://keras.io/guides/keras_cv/generate_images_with_stable_diffusion/).\n",
    "Note that if you are running with a M1 Mac GPU you should not enable mixed precision."
   ]
  },
  {
   "cell_type": "markdown",
   "metadata": {
    "id": "a8pG5vIrbY7B"
   },
   "source": [
    "## 총 학습은 두시간 가량 소요됩니다!\n",
    "#### 지정된 하이퍼 파라메터가 긴 학습시간을 요구하므로,\n",
    "#### 스탭 수와 배치 수, 이미지 생성 갯수 (예)그리드 사이즈) 등을 줄여 학습하시길 권장합니다!\n",
    "#### 또한, 코랩 프로 구독과 무료버전의 RAM GPU CPU는 차이가 없는 점도 알고 진행하시면 좋을 것 같습니다 😎"
   ]
  },
  {
   "cell_type": "code",
   "execution_count": 3,
   "metadata": {
    "colab": {
     "base_uri": "https://localhost:8080/"
    },
    "executionInfo": {
     "elapsed": 434,
     "status": "ok",
     "timestamp": 1695105293149,
     "user": {
      "displayName": "JunKyu Cho (jdino6505)",
      "userId": "02446244499510317946"
     },
     "user_tz": -540
    },
    "id": "o_lPY55z4PGh",
    "outputId": "8d502ac1-9114-42be-f557-42a9f93e0402"
   },
   "outputs": [
    {
     "name": "stdout",
     "output_type": "stream",
     "text": [
      "Tue Sep 19 06:34:52 2023       \n",
      "+-----------------------------------------------------------------------------+\n",
      "| NVIDIA-SMI 525.105.17   Driver Version: 525.105.17   CUDA Version: 12.0     |\n",
      "|-------------------------------+----------------------+----------------------+\n",
      "| GPU  Name        Persistence-M| Bus-Id        Disp.A | Volatile Uncorr. ECC |\n",
      "| Fan  Temp  Perf  Pwr:Usage/Cap|         Memory-Usage | GPU-Util  Compute M. |\n",
      "|                               |                      |               MIG M. |\n",
      "|===============================+======================+======================|\n",
      "|   0  Tesla T4            Off  | 00000000:00:04.0 Off |                    0 |\n",
      "| N/A   39C    P8     9W /  70W |      0MiB / 15360MiB |      0%      Default |\n",
      "|                               |                      |                  N/A |\n",
      "+-------------------------------+----------------------+----------------------+\n",
      "                                                                               \n",
      "+-----------------------------------------------------------------------------+\n",
      "| Processes:                                                                  |\n",
      "|  GPU   GI   CI        PID   Type   Process name                  GPU Memory |\n",
      "|        ID   ID                                                   Usage      |\n",
      "|=============================================================================|\n",
      "|  No running processes found                                                 |\n",
      "+-----------------------------------------------------------------------------+\n"
     ]
    }
   ],
   "source": [
    "!nvidia-smi"
   ]
  },
  {
   "cell_type": "code",
   "execution_count": 4,
   "metadata": {
    "colab": {
     "base_uri": "https://localhost:8080/"
    },
    "executionInfo": {
     "elapsed": 6743,
     "status": "ok",
     "timestamp": 1695105303733,
     "user": {
      "displayName": "JunKyu Cho (jdino6505)",
      "userId": "02446244499510317946"
     },
     "user_tz": -540
    },
    "id": "Owo_s-siI4i0",
    "outputId": "9bece665-b2f1-4d10-a1e2-264485abdf58"
   },
   "outputs": [
    {
     "name": "stdout",
     "output_type": "stream",
     "text": [
      "\u001b[?25l     \u001b[90m━━━━━━━━━━━━━━━━━━━━━━━━━━━━━━━━━━━━━━━━\u001b[0m \u001b[32m0.0/803.1 kB\u001b[0m \u001b[31m?\u001b[0m eta \u001b[36m-:--:--\u001b[0m\r",
      "\u001b[2K     \u001b[91m━━━━━\u001b[0m\u001b[91m╸\u001b[0m\u001b[90m━━━━━━━━━━━━━━━━━━━━━━━━━━━━━━━━━\u001b[0m \u001b[32m122.9/803.1 kB\u001b[0m \u001b[31m3.5 MB/s\u001b[0m eta \u001b[36m0:00:01\u001b[0m\r",
      "\u001b[2K     \u001b[91m━━━━━━━━━━━━━━━━━━━━━━━\u001b[0m\u001b[91m╸\u001b[0m\u001b[90m━━━━━━━━━━━━━━━\u001b[0m \u001b[32m491.5/803.1 kB\u001b[0m \u001b[31m7.1 MB/s\u001b[0m eta \u001b[36m0:00:01\u001b[0m\r",
      "\u001b[2K     \u001b[91m━━━━━━━━━━━━━━━━━━━━━━━━━━━━━━━━━━━━━━\u001b[0m\u001b[91m╸\u001b[0m \u001b[32m798.7/803.1 kB\u001b[0m \u001b[31m8.3 MB/s\u001b[0m eta \u001b[36m0:00:01\u001b[0m\r",
      "\u001b[2K     \u001b[90m━━━━━━━━━━━━━━━━━━━━━━━━━━━━━━━━━━━━━━━\u001b[0m \u001b[32m803.1/803.1 kB\u001b[0m \u001b[31m7.5 MB/s\u001b[0m eta \u001b[36m0:00:00\u001b[0m\n",
      "\u001b[?25h\u001b[?25l     \u001b[90m━━━━━━━━━━━━━━━━━━━━━━━━━━━━━━━━━━━━━━━━\u001b[0m \u001b[32m0.0/944.9 kB\u001b[0m \u001b[31m?\u001b[0m eta \u001b[36m-:--:--\u001b[0m\r",
      "\u001b[2K     \u001b[91m━━━━━━━━━━━━━━━━━━\u001b[0m\u001b[91m╸\u001b[0m\u001b[90m━━━━━━━━━━━━━━━━━━━\u001b[0m \u001b[32m460.8/944.9 kB\u001b[0m \u001b[31m13.9 MB/s\u001b[0m eta \u001b[36m0:00:01\u001b[0m\r",
      "\u001b[2K     \u001b[91m━━━━━━━━━━━━━━━━━━━━━━━━━━━━━━━━━━━━━\u001b[0m\u001b[91m╸\u001b[0m \u001b[32m942.1/944.9 kB\u001b[0m \u001b[31m14.4 MB/s\u001b[0m eta \u001b[36m0:00:01\u001b[0m\r",
      "\u001b[2K     \u001b[90m━━━━━━━━━━━━━━━━━━━━━━━━━━━━━━━━━━━━━━\u001b[0m \u001b[32m944.9/944.9 kB\u001b[0m \u001b[31m12.3 MB/s\u001b[0m eta \u001b[36m0:00:00\u001b[0m\n",
      "\u001b[?25h"
     ]
    }
   ],
   "source": [
    "!pip install tensorflow keras_cv keras_core --upgrade --quiet"
   ]
  },
  {
   "cell_type": "code",
   "execution_count": 5,
   "metadata": {
    "colab": {
     "base_uri": "https://localhost:8080/"
    },
    "executionInfo": {
     "elapsed": 9206,
     "status": "ok",
     "timestamp": 1695105315297,
     "user": {
      "displayName": "JunKyu Cho (jdino6505)",
      "userId": "02446244499510317946"
     },
     "user_tz": -540
    },
    "id": "hxynTJwJI4i1",
    "outputId": "1882e86f-9a6d-41b7-f13f-d83bc796e237"
   },
   "outputs": [
    {
     "name": "stdout",
     "output_type": "stream",
     "text": [
      "Using TensorFlow backend\n",
      "By using this model checkpoint, you acknowledge that its usage is subject to the terms of the CreativeML Open RAIL-M license at https://raw.githubusercontent.com/CompVis/stable-diffusion/main/LICENSE\n"
     ]
    }
   ],
   "source": [
    "import keras_cv\n",
    "from tensorflow import keras\n",
    "import matplotlib.pyplot as plt\n",
    "import tensorflow as tf\n",
    "import numpy as np\n",
    "import math\n",
    "from PIL import Image\n",
    "\n",
    "# Enable mixed precision\n",
    "# (only do this if you have a recent NVIDIA GPU)\n",
    "keras.mixed_precision.set_global_policy(\"mixed_float16\")\n",
    "\n",
    "# Instantiate the Stable Diffusion model\n",
    "model = keras_cv.models.StableDiffusion(jit_compile=True)"
   ]
  },
  {
   "cell_type": "markdown",
   "metadata": {
    "id": "rPPL0eH4I4i3"
   },
   "source": [
    "## Interpolating between text prompts\n",
    "\n",
    "In Stable Diffusion, a text prompt is first encoded into a vector,\n",
    "and that encoding is used to guide the diffusion process.\n",
    "The latent encoding vector has shape\n",
    "77x768 (that's huge!), and when we give Stable Diffusion a text prompt, we're\n",
    "generating images from just one such point on the latent manifold.\n",
    "\n",
    "To explore more of this manifold, we can interpolate between two text encodings\n",
    "and generate images at those interpolated points:"
   ]
  },
  {
   "cell_type": "code",
   "execution_count": 7,
   "metadata": {
    "colab": {
     "base_uri": "https://localhost:8080/"
    },
    "executionInfo": {
     "elapsed": 320,
     "status": "ok",
     "timestamp": 1695110981441,
     "user": {
      "displayName": "JunKyu Cho (jdino6505)",
      "userId": "02446244499510317946"
     },
     "user_tz": -540
    },
    "id": "LJj_JuUAI4i3",
    "outputId": "85ab2340-3960-46a4-ac96-b415f44f582b"
   },
   "outputs": [
    {
     "name": "stdout",
     "output_type": "stream",
     "text": [
      "Encoding shape: (77, 768)\n"
     ]
    }
   ],
   "source": [
    "prompt_1 = \"A cartoon scene in which a robot wearing a cap looks at the river\"\n",
    "prompt_2 = \"A picture of an astronaut looking at the moon in space with his dog\"\n",
    "interpolation_steps = 5\n",
    "\n",
    "encoding_1 = tf.squeeze(model.encode_text(prompt_1))\n",
    "encoding_2 = tf.squeeze(model.encode_text(prompt_2))\n",
    "\n",
    "interpolated_encodings = tf.linspace(encoding_1, encoding_2, interpolation_steps)\n",
    "\n",
    "# Show the size of the latent manifold\n",
    "print(f\"Encoding shape: {encoding_1.shape}\")"
   ]
  },
  {
   "cell_type": "markdown",
   "metadata": {
    "id": "oyP5khx4I4i3"
   },
   "source": [
    "Once we've interpolated the encodings, we can generate images from each point.\n",
    "Note that in order to maintain some stability between the resulting images we\n",
    "keep the diffusion noise constant between images."
   ]
  },
  {
   "cell_type": "code",
   "execution_count": 8,
   "metadata": {
    "colab": {
     "base_uri": "https://localhost:8080/"
    },
    "executionInfo": {
     "elapsed": 839810,
     "status": "ok",
     "timestamp": 1695111835110,
     "user": {
      "displayName": "JunKyu Cho (jdino6505)",
      "userId": "02446244499510317946"
     },
     "user_tz": -540
    },
    "id": "lOfMPJPqI4i3",
    "outputId": "a8f676b7-3c93-440d-b084-59d7755abf0e"
   },
   "outputs": [
    {
     "name": "stdout",
     "output_type": "stream",
     "text": [
      "Downloading data from https://huggingface.co/fchollet/stable-diffusion/resolve/main/kcv_diffusion_model.h5\n",
      "3439090152/3439090152 [==============================] - 104s 0us/step\n",
      "50/50 [==============================] - 610s 936ms/step\n",
      "Downloading data from https://huggingface.co/fchollet/stable-diffusion/resolve/main/kcv_decoder.h5\n",
      "198180272/198180272 [==============================] - 5s 0us/step\n"
     ]
    }
   ],
   "source": [
    "seed = 12345\n",
    "\n",
    "# 수정된 부분입니다\n",
    "# 최근 변경된 텐서플로 연산 라이브러리(ops) 에서 다른 자료형을 가진 텐서끼리의 연산에 제약사항이 생긴것으로 추적되니, 형변환을 거친 후에 실습을 진행해주세요!\n",
    "#noise = tf.random.normal((512 // 8, 512 // 8, 4), seed=seed)\n",
    "noise = tf.random.normal((512 // 8, 512 // 8, 4), seed=seed, dtype=tf.dtypes.float16)\n",
    "\n",
    "images = model.generate_image(\n",
    "    interpolated_encodings,\n",
    "    batch_size=interpolation_steps,\n",
    "    diffusion_noise=noise,\n",
    ")\n",
    "\n",
    "#코랩환경에서 13분정도 소요됩니다!"
   ]
  },
  {
   "cell_type": "markdown",
   "metadata": {
    "id": "LO9wEJB7I4i3"
   },
   "source": [
    "Now that we've generated some interpolated images, let's take a look at them!\n",
    "\n",
    "Throughout this tutorial, we're going to export sequences of images as gifs so\n",
    "that they can be easily viewed with some temporal context. For sequences of\n",
    "images where the first and last images don't match conceptually, we rubber-band\n",
    "the gif.\n",
    "\n",
    "If you're running in Colab, you can view your own GIFs by running:\n",
    "\n",
    "```\n",
    "from IPython.display import Image as IImage\n",
    "IImage(\"doggo-and-fruit-5.gif\")\n",
    "```"
   ]
  },
  {
   "cell_type": "code",
   "execution_count": 11,
   "metadata": {
    "executionInfo": {
     "elapsed": 1320,
     "status": "ok",
     "timestamp": 1695112074007,
     "user": {
      "displayName": "JunKyu Cho (jdino6505)",
      "userId": "02446244499510317946"
     },
     "user_tz": -540
    },
    "id": "auAv90D8I4i4"
   },
   "outputs": [],
   "source": [
    "def export_as_gif(filename, images, frames_per_second=10, rubber_band=False):\n",
    "    if rubber_band:\n",
    "        images += images[2:-1][::-1]\n",
    "    images[0].save(\n",
    "        filename,\n",
    "        save_all=True,\n",
    "        append_images=images[1:],\n",
    "        duration=1000 // frames_per_second,\n",
    "        loop=0,\n",
    "    )\n",
    "\n",
    "export_as_gif(\n",
    "    DRIVE_PATH + \"robot-and-space-5.gif\",\n",
    "    [Image.fromarray(img) for img in images],\n",
    "    frames_per_second=2,\n",
    "    rubber_band=True,\n",
    ")"
   ]
  },
  {
   "cell_type": "markdown",
   "metadata": {
    "id": "WdsDE2ytI4i5"
   },
   "source": [
    "![Dog to Fruit 5](https://i.imgur.com/4ZCxZY4.gif)\n",
    "![Robot to space 5](./outputs/robot-and-space-5.gif)\n",
    "\n",
    "The results may seem surprising. Generally, interpolating between prompts\n",
    "produces coherent looking images, and often demonstrates a progressive concept\n",
    "shift between the contents of the two prompts. This is indicative of a high\n",
    "quality representation space, that closely mirrors the natural structure\n",
    "of the visual world.\n",
    "\n",
    "To best visualize this, we should do a much more fine-grained interpolation,\n",
    "using hundreds of steps. In order to keep batch size small (so that we don't\n",
    "OOM our GPU), this requires manually batching our interpolated\n",
    "encodings."
   ]
  },
  {
   "cell_type": "markdown",
   "metadata": {
    "id": "KhPWYTOpSNyx"
   },
   "source": [
    "이 블럭은 25분 정도 소요됩니다!\n",
    "배치의 크기를 줄여서 테스트해보길 추천드릴게요!\n",
    "노트북의 파일은 기존의 결과물로, 새로 테스트하는 결과물과 배치 크기에 따른 결과를 비교해보는 것도 좋은 실험이겠네요 😀"
   ]
  },
  {
   "cell_type": "code",
   "execution_count": 13,
   "metadata": {
    "colab": {
     "base_uri": "https://localhost:8080/"
    },
    "executionInfo": {
     "elapsed": 417547,
     "status": "ok",
     "timestamp": 1695113256842,
     "user": {
      "displayName": "JunKyu Cho (jdino6505)",
      "userId": "02446244499510317946"
     },
     "user_tz": -540
    },
    "id": "5e8yBW7DI4i6",
    "outputId": "f7c2b52c-f5cf-442e-e0d3-524f066944cf"
   },
   "outputs": [
    {
     "name": "stdout",
     "output_type": "stream",
     "text": [
      "25/25 [==============================] - 10s 390ms/step\n",
      "25/25 [==============================] - 10s 402ms/step\n",
      "25/25 [==============================] - 10s 405ms/step\n",
      "25/25 [==============================] - 10s 407ms/step\n",
      "25/25 [==============================] - 10s 404ms/step\n",
      "25/25 [==============================] - 10s 400ms/step\n",
      "25/25 [==============================] - 10s 398ms/step\n",
      "25/25 [==============================] - 10s 396ms/step\n",
      "25/25 [==============================] - 10s 397ms/step\n",
      "25/25 [==============================] - 10s 399ms/step\n",
      "25/25 [==============================] - 10s 401ms/step\n",
      "25/25 [==============================] - 10s 401ms/step\n",
      "25/25 [==============================] - 10s 401ms/step\n",
      "25/25 [==============================] - 10s 402ms/step\n",
      "25/25 [==============================] - 10s 398ms/step\n",
      "25/25 [==============================] - 10s 398ms/step\n",
      "25/25 [==============================] - 10s 399ms/step\n",
      "25/25 [==============================] - 10s 400ms/step\n",
      "25/25 [==============================] - 10s 400ms/step\n",
      "25/25 [==============================] - 10s 401ms/step\n",
      "25/25 [==============================] - 10s 400ms/step\n",
      "25/25 [==============================] - 10s 407ms/step\n",
      "25/25 [==============================] - 10s 401ms/step\n",
      "25/25 [==============================] - 10s 399ms/step\n",
      "25/25 [==============================] - 10s 399ms/step\n"
     ]
    }
   ],
   "source": [
    "interpolation_steps = 50\n",
    "batch_size = 2\n",
    "batches = interpolation_steps // batch_size\n",
    "\n",
    "# 여기서의 스탭은 상당히 깁니다! 그대로 사용 시 코드 전체 실행 시 2시간 가량 소요\n",
    "# 스태이블 디퓨전이 일반적으로 필요한 스탭 수를 고려해서, 적당히 조절해보세요~\n",
    "\n",
    "interpolated_encodings = tf.linspace(encoding_1, encoding_2, interpolation_steps)\n",
    "batched_encodings = tf.split(interpolated_encodings, batches)\n",
    "\n",
    "images = []\n",
    "for batch in range(batches):\n",
    "    images += [\n",
    "        Image.fromarray(img)\n",
    "        for img in model.generate_image(\n",
    "            batched_encodings[batch],\n",
    "            batch_size=batch_size,\n",
    "            num_steps=25,\n",
    "            diffusion_noise=noise,\n",
    "        )\n",
    "    ]\n",
    "\n",
    "export_as_gif(DRIVE_PATH + \"robot-and-space-50.gif\", images, rubber_band=True)\n",
    "\n",
    "#150 스탭 25분 소요됩니다!"
   ]
  },
  {
   "cell_type": "markdown",
   "metadata": {
    "id": "bKdiPffEI4i8"
   },
   "source": [
    "![Dog to Fruit 150](https://keras.io/img/examples/generative/random_walks_with_stable_diffusion/dog2fruit150.gif)\n",
    "![Robot to space 50](./outputs/robot-and-space-50.gif)\n",
    "\n",
    "The resulting gif shows a much clearer and more coherent shift between the two\n",
    "prompts. Try out some prompts of your own and experiment!\n",
    "\n",
    "We can even extend this concept for more than one image. For example, we can\n",
    "interpolate between four prompts:"
   ]
  },
  {
   "cell_type": "markdown",
   "metadata": {
    "id": "uNHOpNe5TBJo"
   },
   "source": [
    " 스크롤을 내려 결과를 먼저 확인해볼까요?\n",
    " grid수를 줄이면 시간이 단축 될 것 같습니다!\n",
    " 뒤에 학습이 더 남은 만큼, 여러분들은 그리드 수를 줄여\n",
    " 결과물을 확인해보시기 바랍니다\n"
   ]
  },
  {
   "cell_type": "code",
   "execution_count": 17,
   "metadata": {
    "colab": {
     "base_uri": "https://localhost:8080/"
    },
    "executionInfo": {
     "elapsed": 366393,
     "status": "ok",
     "timestamp": 1695114324097,
     "user": {
      "displayName": "JunKyu Cho (jdino6505)",
      "userId": "02446244499510317946"
     },
     "user_tz": -540
    },
    "id": "aqTiRGQ5I4i9",
    "outputId": "b1857fa4-b5e8-4bc9-fac8-3abfb946b181"
   },
   "outputs": [
    {
     "name": "stdout",
     "output_type": "stream",
     "text": [
      "50/50 [==============================] - 19s 389ms/step\n",
      "50/50 [==============================] - 20s 398ms/step\n",
      "50/50 [==============================] - 20s 406ms/step\n",
      "50/50 [==============================] - 20s 400ms/step\n",
      "50/50 [==============================] - 20s 396ms/step\n",
      "50/50 [==============================] - 20s 398ms/step\n",
      "50/50 [==============================] - 20s 400ms/step\n",
      "50/50 [==============================] - 20s 399ms/step\n",
      "50/50 [==============================] - 20s 399ms/step\n",
      "50/50 [==============================] - 20s 398ms/step\n",
      "50/50 [==============================] - 20s 400ms/step\n",
      "50/50 [==============================] - 20s 400ms/step\n",
      "50/50 [==============================] - 20s 400ms/step\n",
      "50/50 [==============================] - 20s 399ms/step\n",
      "50/50 [==============================] - 20s 399ms/step\n",
      "50/50 [==============================] - 20s 399ms/step\n",
      "50/50 [==============================] - 20s 399ms/step\n",
      "50/50 [==============================] - 20s 400ms/step\n"
     ]
    }
   ],
   "source": [
    "prompt_1 = \"A cartoon scene in which a robot wearing a cap looks at the river\"\n",
    "prompt_2 = \"A picture of an astronaut looking at the moon in space with his dog\"\n",
    "prompt_3 = \"The eiffel tower in the style of starry night\"\n",
    "prompt_4 = \"An architectural sketch of a skyscraper\"\n",
    "\n",
    "interpolation_steps = 6\n",
    "batch_size = 2\n",
    "batches = (interpolation_steps**2) // batch_size\n",
    "\n",
    "encoding_1 = tf.squeeze(model.encode_text(prompt_1))\n",
    "encoding_2 = tf.squeeze(model.encode_text(prompt_2))\n",
    "encoding_3 = tf.squeeze(model.encode_text(prompt_3))\n",
    "encoding_4 = tf.squeeze(model.encode_text(prompt_4))\n",
    "\n",
    "interpolated_encodings = tf.linspace(\n",
    "    tf.linspace(encoding_1, encoding_2, interpolation_steps),\n",
    "    tf.linspace(encoding_3, encoding_4, interpolation_steps),\n",
    "    interpolation_steps,\n",
    ")\n",
    "interpolated_encodings = tf.reshape(\n",
    "    interpolated_encodings, (interpolation_steps**2, 77, 768)\n",
    ")\n",
    "batched_encodings = tf.split(interpolated_encodings, batches)\n",
    "\n",
    "images = []\n",
    "for batch in range(batches):\n",
    "    images.append(\n",
    "        model.generate_image(\n",
    "            batched_encodings[batch],\n",
    "            batch_size=batch_size,\n",
    "            diffusion_noise=noise,\n",
    "        )\n",
    "    )\n",
    "\n",
    "def plot_grid(\n",
    "    images,\n",
    "    path,\n",
    "    grid_size,\n",
    "    scale=2,\n",
    "):\n",
    "    fig = plt.figure(figsize=(grid_size * scale, grid_size * scale))\n",
    "    fig.tight_layout()\n",
    "    plt.subplots_adjust(wspace=0, hspace=0)\n",
    "    plt.margins(x=0, y=0)\n",
    "    plt.axis(\"off\")\n",
    "    images = images.astype(int)\n",
    "    for row in range(grid_size):\n",
    "        for col in range(grid_size):\n",
    "            index = row * grid_size + col\n",
    "            plt.subplot(grid_size, grid_size, index + 1)\n",
    "            plt.imshow(images[index].astype(\"uint8\"))\n",
    "            plt.axis(\"off\")\n",
    "            plt.margins(x=0, y=0)\n",
    "    plt.savefig(\n",
    "        fname=path,\n",
    "        pad_inches=0,\n",
    "        bbox_inches=\"tight\",\n",
    "        transparent=False,\n",
    "        dpi=60,\n",
    "    )\n",
    "\n",
    "#6BY6 기준 6분가량 소요!"
   ]
  },
  {
   "cell_type": "code",
   "execution_count": 18,
   "metadata": {
    "executionInfo": {
     "elapsed": 3,
     "status": "ok",
     "timestamp": 1695114324097,
     "user": {
      "displayName": "JunKyu Cho (jdino6505)",
      "userId": "02446244499510317946"
     },
     "user_tz": -540
    },
    "id": "1znLIL-dqcB0"
   },
   "outputs": [],
   "source": [
    "images = np.concatenate(images)"
   ]
  },
  {
   "cell_type": "code",
   "execution_count": 19,
   "metadata": {
    "colab": {
     "base_uri": "https://localhost:8080/",
     "height": 717,
     "output_embedded_package_id": "1PnkNfziSYWPGJFf4IA8hlhJsckwNKc5-"
    },
    "executionInfo": {
     "elapsed": 5680,
     "status": "ok",
     "timestamp": 1695114329775,
     "user": {
      "displayName": "JunKyu Cho (jdino6505)",
      "userId": "02446244499510317946"
     },
     "user_tz": -540
    },
    "id": "D0kOomfVQg2B",
    "outputId": "c76757bd-28b6-42d1-857c-fa5cf114d5a4"
   },
   "outputs": [
    {
     "data": {
      "text/plain": [
       "Output hidden; open in https://colab.research.google.com to view."
      ]
     },
     "metadata": {},
     "output_type": "display_data"
    }
   ],
   "source": [
    "plot_grid(images, DRIVE_PATH + \"4-way-interpolation.jpg\", interpolation_steps)"
   ]
  },
  {
   "cell_type": "markdown",
   "metadata": {},
   "source": [
    "![4 way interpolation dog](./outputs/4-way-interpolation.jpg)\n",
    "![4 way interpolation robot](./outputs/4-way-interpolation_1.jpg)"
   ]
  },
  {
   "cell_type": "markdown",
   "metadata": {
    "id": "TAbMliYMI4i9"
   },
   "source": [
    "We can also interpolate while allowing diffusion noise to vary by dropping\n",
    "the `diffusion_noise` parameter:"
   ]
  },
  {
   "cell_type": "code",
   "execution_count": 10,
   "metadata": {
    "executionInfo": {
     "elapsed": 18,
     "status": "ok",
     "timestamp": 1695095975722,
     "user": {
      "displayName": "JunKyu Cho (jdino6505)",
      "userId": "02446244499510317946"
     },
     "user_tz": -540
    },
    "id": "ynzLm7uSY2ku"
   },
   "outputs": [],
   "source": [
    "prompt_1 = \"A watercolor painting of a Golden Retriever at the beach\"\n",
    "prompt_2 = \"A still life DSLR photo of a bowl of fruit\"\n",
    "prompt_3 = \"The eiffel tower in the style of starry night\"\n",
    "prompt_4 = \"An architectural sketch of a skyscraper\"\n",
    "\n",
    "interpolation_steps = 6\n",
    "batch_size = 2\n",
    "batches = (interpolation_steps**2) // batch_size\n",
    "\n",
    "encoding_1 = tf.squeeze(model.encode_text(prompt_1))\n",
    "encoding_2 = tf.squeeze(model.encode_text(prompt_2))\n",
    "encoding_3 = tf.squeeze(model.encode_text(prompt_3))\n",
    "encoding_4 = tf.squeeze(model.encode_text(prompt_4))\n",
    "\n",
    "interpolated_encodings = tf.linspace(\n",
    "    tf.linspace(encoding_1, encoding_2, interpolation_steps),\n",
    "    tf.linspace(encoding_3, encoding_4, interpolation_steps),\n",
    "    interpolation_steps,\n",
    ")\n",
    "interpolated_encodings = tf.reshape(\n",
    "    interpolated_encodings, (interpolation_steps**2, 77, 768)\n",
    ")\n",
    "batched_encodings = tf.split(interpolated_encodings, batches)"
   ]
  },
  {
   "cell_type": "code",
   "execution_count": 11,
   "metadata": {
    "executionInfo": {
     "elapsed": 18,
     "status": "ok",
     "timestamp": 1695095975723,
     "user": {
      "displayName": "JunKyu Cho (jdino6505)",
      "userId": "02446244499510317946"
     },
     "user_tz": -540
    },
    "id": "gkdbY_OII4i-"
   },
   "outputs": [],
   "source": [
    "# 해당 셀의 내용은 위에 설명했던 형변환의 문제로 동작하지 않습니다! (2023.09.17)\n",
    "\n",
    "#images = []\n",
    "#for batch in range(batches):\n",
    "#수정코드#  images.append(model.generate_image(tf.cast(batched_encodings[batch],tf.dtypes.float32), batch_size=batch_size))\n",
    "#원코드#    images.append(model.generate_image(batched_encodings[batch]), batch_size=batch_size))\n",
    "#images = np.concatenate(images)\n",
    "#plot_grid(images, \"4-way-interpolation-varying-noise.jpg\", interpolation_steps)"
   ]
  },
  {
   "cell_type": "markdown",
   "metadata": {
    "id": "sH58VgbBI4i_"
   },
   "source": [
    "Next up -- let's go for some walks!\n",
    "\n",
    "## A walk around a text prompt\n",
    "\n",
    "Our next experiment will be to go for a walk around the latent manifold\n",
    "starting from a point produced by a particular prompt."
   ]
  },
  {
   "cell_type": "markdown",
   "metadata": {
    "id": "jRtvAx9yRq9A"
   },
   "source": [
    "이 블럭은 15분 정도 소요됩니다!\n",
    "배치의 크기를 줄여서 테스트해보길 추천드릴게요!\n",
    "노트북의 파일은 기존의 결과물로, 새로 테스트하는 결과물과 배치 크기에 따른 결과를 비교해보는 것도 좋은 실험이겠네요 😀"
   ]
  },
  {
   "cell_type": "code",
   "execution_count": 12,
   "metadata": {
    "colab": {
     "base_uri": "https://localhost:8080/"
    },
    "executionInfo": {
     "elapsed": 863356,
     "status": "ok",
     "timestamp": 1695096839062,
     "user": {
      "displayName": "JunKyu Cho (jdino6505)",
      "userId": "02446244499510317946"
     },
     "user_tz": -540
    },
    "id": "V7vHNt-hI4i_",
    "outputId": "8b554c04-ca59-42e7-dc48-9733f6c776a5"
   },
   "outputs": [
    {
     "name": "stdout",
     "output_type": "stream",
     "text": [
      "25/25 [==============================] - 11s 425ms/step\n",
      "25/25 [==============================] - 11s 430ms/step\n",
      "25/25 [==============================] - 11s 431ms/step\n",
      "25/25 [==============================] - 11s 430ms/step\n",
      "25/25 [==============================] - 11s 427ms/step\n",
      "25/25 [==============================] - 11s 425ms/step\n",
      "25/25 [==============================] - 11s 425ms/step\n",
      "25/25 [==============================] - 11s 425ms/step\n",
      "25/25 [==============================] - 11s 425ms/step\n",
      "25/25 [==============================] - 11s 425ms/step\n",
      "25/25 [==============================] - 11s 428ms/step\n",
      "25/25 [==============================] - 11s 428ms/step\n",
      "25/25 [==============================] - 11s 427ms/step\n",
      "25/25 [==============================] - 11s 426ms/step\n",
      "25/25 [==============================] - 11s 425ms/step\n",
      "25/25 [==============================] - 11s 425ms/step\n",
      "25/25 [==============================] - 11s 425ms/step\n",
      "25/25 [==============================] - 11s 426ms/step\n",
      "25/25 [==============================] - 11s 427ms/step\n",
      "25/25 [==============================] - 11s 427ms/step\n",
      "25/25 [==============================] - 11s 432ms/step\n",
      "25/25 [==============================] - 11s 428ms/step\n",
      "25/25 [==============================] - 11s 427ms/step\n",
      "25/25 [==============================] - 11s 428ms/step\n",
      "25/25 [==============================] - 11s 428ms/step\n",
      "25/25 [==============================] - 11s 427ms/step\n",
      "25/25 [==============================] - 11s 427ms/step\n",
      "25/25 [==============================] - 11s 427ms/step\n",
      "25/25 [==============================] - 11s 427ms/step\n",
      "25/25 [==============================] - 11s 428ms/step\n",
      "25/25 [==============================] - 11s 426ms/step\n",
      "25/25 [==============================] - 11s 427ms/step\n",
      "25/25 [==============================] - 11s 426ms/step\n",
      "25/25 [==============================] - 11s 427ms/step\n",
      "25/25 [==============================] - 11s 427ms/step\n",
      "25/25 [==============================] - 11s 427ms/step\n",
      "25/25 [==============================] - 11s 427ms/step\n",
      "25/25 [==============================] - 11s 426ms/step\n",
      "25/25 [==============================] - 11s 426ms/step\n",
      "25/25 [==============================] - 11s 427ms/step\n",
      "25/25 [==============================] - 11s 426ms/step\n",
      "25/25 [==============================] - 11s 425ms/step\n",
      "25/25 [==============================] - 11s 426ms/step\n",
      "25/25 [==============================] - 11s 425ms/step\n",
      "25/25 [==============================] - 11s 425ms/step\n",
      "25/25 [==============================] - 11s 425ms/step\n",
      "25/25 [==============================] - 11s 426ms/step\n",
      "25/25 [==============================] - 11s 427ms/step\n",
      "25/25 [==============================] - 11s 426ms/step\n",
      "25/25 [==============================] - 11s 426ms/step\n",
      "25/25 [==============================] - 11s 426ms/step\n",
      "25/25 [==============================] - 11s 426ms/step\n",
      "25/25 [==============================] - 11s 426ms/step\n",
      "25/25 [==============================] - 11s 426ms/step\n",
      "25/25 [==============================] - 11s 426ms/step\n",
      "25/25 [==============================] - 11s 425ms/step\n",
      "25/25 [==============================] - 11s 425ms/step\n",
      "25/25 [==============================] - 11s 425ms/step\n",
      "25/25 [==============================] - 11s 426ms/step\n",
      "25/25 [==============================] - 11s 425ms/step\n",
      "25/25 [==============================] - 11s 426ms/step\n",
      "25/25 [==============================] - 11s 426ms/step\n",
      "25/25 [==============================] - 11s 426ms/step\n",
      "25/25 [==============================] - 11s 426ms/step\n",
      "25/25 [==============================] - 11s 425ms/step\n",
      "25/25 [==============================] - 11s 426ms/step\n",
      "25/25 [==============================] - 11s 427ms/step\n",
      "25/25 [==============================] - 11s 426ms/step\n",
      "25/25 [==============================] - 11s 425ms/step\n",
      "25/25 [==============================] - 11s 425ms/step\n",
      "25/25 [==============================] - 11s 425ms/step\n",
      "25/25 [==============================] - 11s 425ms/step\n",
      "25/25 [==============================] - 11s 425ms/step\n",
      "25/25 [==============================] - 11s 425ms/step\n",
      "25/25 [==============================] - 11s 426ms/step\n"
     ]
    }
   ],
   "source": [
    "walk_steps = 50\n",
    "batch_size = 2\n",
    "batches = walk_steps // batch_size\n",
    "step_size = 0.005\n",
    "\n",
    "encoding = tf.squeeze(\n",
    "    model.encode_text(\"The Eiffel Tower in the style of starry night\")\n",
    ")\n",
    "# Note that (77, 768) is the shape of the text encoding.\n",
    "delta = tf.ones_like(encoding) * step_size\n",
    "\n",
    "walked_encodings = []\n",
    "for step_index in range(walk_steps):\n",
    "    walked_encodings.append(encoding)\n",
    "    encoding += delta\n",
    "walked_encodings = tf.stack(walked_encodings)\n",
    "batched_encodings = tf.split(walked_encodings, batches)\n",
    "\n",
    "images = []\n",
    "for batch in range(batches):\n",
    "    images += [\n",
    "        Image.fromarray(img)\n",
    "        for img in model.generate_image(\n",
    "            batched_encodings[batch],\n",
    "            batch_size=batch_size,\n",
    "            num_steps=25,\n",
    "            diffusion_noise=noise,\n",
    "        )\n",
    "    ]\n",
    "\n",
    "export_as_gif(\"eiffel-tower-starry-night.gif\", images, rubber_band=True)\n",
    "\n",
    "#15분 정도 소요됩니다!"
   ]
  },
  {
   "cell_type": "markdown",
   "metadata": {
    "id": "b_PdOfKrI4i_"
   },
   "source": [
    "![Eiffel tower walk gif](https://i.imgur.com/9MMYtal.gif)\n",
    "\n",
    "Perhaps unsurprisingly, walking too far from the encoder's latent manifold\n",
    "produces images that look incoherent. Try it for yourself by setting\n",
    "your own prompt, and adjusting `step_size` to increase or decrease the magnitude\n",
    "of the walk. Note that when the magnitude of the walk gets large, the walk often\n",
    "leads into areas which produce extremely noisy images.\n",
    "\n",
    "## A circular walk through the diffusion noise space for a single prompt\n",
    "\n",
    "Our final experiment is to stick to one prompt and explore the variety of images\n",
    "that the diffusion model can produce from that prompt. We do this by controlling\n",
    "the noise that is used to seed the diffusion process.\n",
    "\n",
    "We create two noise components, `x` and `y`, and do a walk from 0 to 2π, summing\n",
    "the cosine of our `x` component and the sin of our `y` component to produce noise.\n",
    "Using this approach, the end of our walk arrives at the same noise inputs where\n",
    "we began our walk, so we get a \"loopable\" result!"
   ]
  },
  {
   "cell_type": "code",
   "execution_count": 13,
   "metadata": {
    "executionInfo": {
     "elapsed": 4,
     "status": "ok",
     "timestamp": 1695096839063,
     "user": {
      "displayName": "JunKyu Cho (jdino6505)",
      "userId": "02446244499510317946"
     },
     "user_tz": -540
    },
    "id": "ncjoMKr7I4i_"
   },
   "outputs": [],
   "source": [
    "prompt = \"An oil paintings of cows in a field next to a windmill in Holland\"\n",
    "encoding = tf.squeeze(model.encode_text(prompt))\n",
    "walk_steps = 150\n",
    "batch_size = 3\n",
    "batches = walk_steps // batch_size\n",
    "\n",
    "walk_noise_x = tf.random.normal(noise.shape, dtype=tf.float64)\n",
    "walk_noise_y = tf.random.normal(noise.shape, dtype=tf.float64)\n",
    "\n",
    "walk_scale_x = tf.cos(tf.linspace(0, 2, walk_steps) * math.pi)\n",
    "walk_scale_y = tf.sin(tf.linspace(0, 2, walk_steps) * math.pi)\n",
    "noise_x = tf.tensordot(walk_scale_x, walk_noise_x, axes=0)\n",
    "noise_y = tf.tensordot(walk_scale_y, walk_noise_y, axes=0)\n",
    "noise = tf.add(noise_x, noise_y)\n",
    "batched_noise = tf.split(noise, batches)"
   ]
  },
  {
   "cell_type": "markdown",
   "metadata": {
    "id": "vAbFDoR3SX-p"
   },
   "source": [
    "이 블럭은 25분 정도 소요됩니다!\n",
    "배치의 크기를 줄여서 테스트해보길 추천드릴게요!"
   ]
  },
  {
   "cell_type": "code",
   "execution_count": 14,
   "metadata": {
    "colab": {
     "base_uri": "https://localhost:8080/"
    },
    "executionInfo": {
     "elapsed": 1557835,
     "status": "ok",
     "timestamp": 1695098396895,
     "user": {
      "displayName": "JunKyu Cho (jdino6505)",
      "userId": "02446244499510317946"
     },
     "user_tz": -540
    },
    "id": "KwQbsu5Ek1tL",
    "outputId": "13d81af9-c49c-4c62-d08e-ad0b85b5425b"
   },
   "outputs": [
    {
     "name": "stdout",
     "output_type": "stream",
     "text": [
      "25/25 [==============================] - 503s 605ms/step\n",
      "25/25 [==============================] - 16s 650ms/step\n",
      "25/25 [==============================] - 16s 648ms/step\n",
      "25/25 [==============================] - 16s 638ms/step\n",
      "25/25 [==============================] - 16s 633ms/step\n",
      "25/25 [==============================] - 16s 638ms/step\n",
      "25/25 [==============================] - 16s 643ms/step\n",
      "25/25 [==============================] - 16s 643ms/step\n",
      "25/25 [==============================] - 16s 644ms/step\n",
      "25/25 [==============================] - 16s 643ms/step\n",
      "25/25 [==============================] - 16s 641ms/step\n",
      "25/25 [==============================] - 16s 640ms/step\n",
      "25/25 [==============================] - 16s 642ms/step\n",
      "25/25 [==============================] - 16s 642ms/step\n",
      "25/25 [==============================] - 16s 640ms/step\n",
      "25/25 [==============================] - 16s 640ms/step\n",
      "25/25 [==============================] - 16s 640ms/step\n",
      "25/25 [==============================] - 16s 640ms/step\n",
      "25/25 [==============================] - 16s 640ms/step\n",
      "25/25 [==============================] - 16s 642ms/step\n",
      "25/25 [==============================] - 16s 644ms/step\n",
      "25/25 [==============================] - 16s 642ms/step\n",
      "25/25 [==============================] - 16s 640ms/step\n",
      "25/25 [==============================] - 16s 640ms/step\n",
      "25/25 [==============================] - 16s 639ms/step\n",
      "25/25 [==============================] - 16s 640ms/step\n",
      "25/25 [==============================] - 16s 640ms/step\n",
      "25/25 [==============================] - 16s 640ms/step\n",
      "25/25 [==============================] - 16s 640ms/step\n",
      "25/25 [==============================] - 16s 641ms/step\n",
      "25/25 [==============================] - 16s 642ms/step\n",
      "25/25 [==============================] - 16s 641ms/step\n",
      "25/25 [==============================] - 16s 644ms/step\n",
      "25/25 [==============================] - 16s 644ms/step\n",
      "25/25 [==============================] - 16s 643ms/step\n",
      "25/25 [==============================] - 16s 642ms/step\n",
      "25/25 [==============================] - 16s 643ms/step\n",
      "25/25 [==============================] - 16s 643ms/step\n",
      "25/25 [==============================] - 16s 644ms/step\n",
      "25/25 [==============================] - 16s 643ms/step\n",
      "25/25 [==============================] - 16s 644ms/step\n",
      "25/25 [==============================] - 16s 643ms/step\n",
      "25/25 [==============================] - 16s 641ms/step\n",
      "25/25 [==============================] - 16s 641ms/step\n",
      "25/25 [==============================] - 16s 642ms/step\n",
      "25/25 [==============================] - 16s 643ms/step\n",
      "25/25 [==============================] - 16s 642ms/step\n",
      "25/25 [==============================] - 16s 642ms/step\n",
      "25/25 [==============================] - 16s 640ms/step\n",
      "25/25 [==============================] - 16s 641ms/step\n"
     ]
    }
   ],
   "source": [
    "#추가\n",
    "encoding = tf.cast(encoding,tf.dtypes.float16)\n",
    "\n",
    "images = []\n",
    "for batch in range(batches):\n",
    "    images += [\n",
    "        Image.fromarray(img)\n",
    "        for img in model.generate_image(\n",
    "            #형변환\n",
    "            tf.cast(encoding,tf.dtypes.float32),\n",
    "            batch_size=batch_size,\n",
    "            num_steps=25,\n",
    "            #형변환\n",
    "            diffusion_noise=tf.cast(batched_noise[batch],tf.dtypes.float16),\n",
    "        )\n",
    "    ]\n",
    "\n",
    "export_as_gif(\"cows.gif\", images)\n",
    "\n",
    "#25분 정도 소요됩니다!"
   ]
  },
  {
   "cell_type": "markdown",
   "metadata": {
    "id": "uKlxfFO4I4i_"
   },
   "source": [
    "![Happy Cows](https://keras.io/img/examples/generative/random_walks_with_stable_diffusion/happycows.gif)\n",
    "![Cows](./outputs/cows.gif)\n",
    "\n",
    "Experiment with your own prompts and with different values of\n",
    "`unconditional_guidance_scale`!\n",
    "\n",
    "## Conclusion\n",
    "\n",
    "Stable Diffusion offers a lot more than just single text-to-image generation.\n",
    "Exploring the latent manifold of the text encoder and the noise space of the\n",
    "diffusion model are two fun ways to experience the power of this model, and\n",
    "KerasCV makes it easy!"
   ]
  },
  {
   "cell_type": "code",
   "execution_count": null,
   "metadata": {},
   "outputs": [],
   "source": []
  }
 ],
 "metadata": {
  "accelerator": "GPU",
  "colab": {
   "gpuType": "T4",
   "machine_shape": "hm",
   "provenance": [
    {
     "file_id": "https://gist.github.com/kspark-modulabs/1e16667d524cf6d62c30d00ddb72a714#file-gd26_random_walks_with_stable_diffusion-ipynb",
     "timestamp": 1695022518341
    }
   ]
  },
  "kernelspec": {
   "display_name": "Python 3 (ipykernel)",
   "language": "python",
   "name": "python3"
  },
  "language_info": {
   "codemirror_mode": {
    "name": "ipython",
    "version": 3
   },
   "file_extension": ".py",
   "mimetype": "text/x-python",
   "name": "python",
   "nbconvert_exporter": "python",
   "pygments_lexer": "ipython3",
   "version": "3.9.7"
  },
  "vscode": {
   "interpreter": {
    "hash": "aee8b7b246df8f9039afb4144a1f6fd8d2ca17a180786b69acc140d282b71a49"
   }
  }
 },
 "nbformat": 4,
 "nbformat_minor": 1
}
