{
 "cells": [
  {
   "cell_type": "markdown",
   "id": "9c9e7063",
   "metadata": {},
   "source": [
    "# Project 6 - 뉴스기사 요약해보기"
   ]
  },
  {
   "cell_type": "code",
   "execution_count": 8,
   "id": "a7e1c161",
   "metadata": {},
   "outputs": [
    {
     "name": "stderr",
     "output_type": "stream",
     "text": [
      "[nltk_data] Downloading package stopwords to /aiffel/nltk_data...\n",
      "[nltk_data]   Unzipping corpora/stopwords.zip.\n"
     ]
    },
    {
     "data": {
      "text/plain": [
       "True"
      ]
     },
     "execution_count": 8,
     "metadata": {},
     "output_type": "execute_result"
    }
   ],
   "source": [
    "import nltk\n",
    "nltk.download('stopwords')"
   ]
  },
  {
   "cell_type": "code",
   "execution_count": 1,
   "id": "be23a2b8",
   "metadata": {},
   "outputs": [],
   "source": [
    "import os\n",
    "import re\n",
    "\n",
    "import numpy as np\n",
    "import pandas as pd\n",
    "import matplotlib.pyplot as plt\n",
    "\n",
    "from nltk.corpus import stopwords\n",
    "from bs4 import BeautifulSoup \n",
    "from tensorflow.keras.preprocessing.text import Tokenizer \n",
    "from tensorflow.keras.preprocessing.sequence import pad_sequences\n",
    "import urllib.request"
   ]
  },
  {
   "cell_type": "code",
   "execution_count": 3,
   "id": "8531f96d",
   "metadata": {},
   "outputs": [
    {
     "data": {
      "text/plain": [
       "('news_summary_more.csv', <http.client.HTTPMessage at 0x7fdeec760310>)"
      ]
     },
     "execution_count": 3,
     "metadata": {},
     "output_type": "execute_result"
    }
   ],
   "source": [
    "urllib.request.urlretrieve(\"https://raw.githubusercontent.com/sunnysai12345/News_Summary/master/news_summary_more.csv\", filename=\"news_summary_more.csv\")"
   ]
  },
  {
   "cell_type": "markdown",
   "id": "04cd5165",
   "metadata": {},
   "source": [
    "다운받은 뉴스 기사 데이터를 data 폴더에 옮겨준다."
   ]
  },
  {
   "cell_type": "markdown",
   "id": "cc8184aa",
   "metadata": {},
   "source": [
    "### (1) 데이터 수집하기"
   ]
  },
  {
   "cell_type": "code",
   "execution_count": 2,
   "id": "9074b1d0",
   "metadata": {},
   "outputs": [],
   "source": [
    "data = pd.read_csv('./data/news_summary_more.csv', encoding='iso-8859-1')"
   ]
  },
  {
   "cell_type": "code",
   "execution_count": 3,
   "id": "5ac8250f",
   "metadata": {},
   "outputs": [
    {
     "data": {
      "text/html": [
       "<div>\n",
       "<style scoped>\n",
       "    .dataframe tbody tr th:only-of-type {\n",
       "        vertical-align: middle;\n",
       "    }\n",
       "\n",
       "    .dataframe tbody tr th {\n",
       "        vertical-align: top;\n",
       "    }\n",
       "\n",
       "    .dataframe thead th {\n",
       "        text-align: right;\n",
       "    }\n",
       "</style>\n",
       "<table border=\"1\" class=\"dataframe\">\n",
       "  <thead>\n",
       "    <tr style=\"text-align: right;\">\n",
       "      <th></th>\n",
       "      <th>headlines</th>\n",
       "      <th>text</th>\n",
       "    </tr>\n",
       "  </thead>\n",
       "  <tbody>\n",
       "    <tr>\n",
       "      <th>63235</th>\n",
       "      <td>US to classify data on Afghan forces' casualti...</td>\n",
       "      <td>The US' Special Inspector General for Afghanis...</td>\n",
       "    </tr>\n",
       "    <tr>\n",
       "      <th>23953</th>\n",
       "      <td>I'm Muslim and I wear bikini, it doesn't make ...</td>\n",
       "      <td>Speaking about being trolled for posting pictu...</td>\n",
       "    </tr>\n",
       "    <tr>\n",
       "      <th>56159</th>\n",
       "      <td>No evidence against Indians over alleged Ashes...</td>\n",
       "      <td>The BCCI's Anti-Corruption and Security Unit c...</td>\n",
       "    </tr>\n",
       "    <tr>\n",
       "      <th>95618</th>\n",
       "      <td>Baseball players lie down on the field as bees...</td>\n",
       "      <td>A swarm of bees overtook a baseball field, sen...</td>\n",
       "    </tr>\n",
       "    <tr>\n",
       "      <th>82828</th>\n",
       "      <td>India, China deploy 3,000 troops in Sikkim ami...</td>\n",
       "      <td>Both India and China have deployed around 3,00...</td>\n",
       "    </tr>\n",
       "    <tr>\n",
       "      <th>91868</th>\n",
       "      <td>A man once established a country in internatio...</td>\n",
       "      <td>Major Roy Bates, who served the British Army d...</td>\n",
       "    </tr>\n",
       "    <tr>\n",
       "      <th>70048</th>\n",
       "      <td>B'luru cops deny permission for 'Bol Aunty Aun...</td>\n",
       "      <td>The Bengaluru Police has denied granting permi...</td>\n",
       "    </tr>\n",
       "    <tr>\n",
       "      <th>70169</th>\n",
       "      <td>2200 primary schools in Odisha have only one c...</td>\n",
       "      <td>At least 2,205 primary schools in Odisha have ...</td>\n",
       "    </tr>\n",
       "    <tr>\n",
       "      <th>91066</th>\n",
       "      <td>Eid release of Salman's Tubelight being oppose...</td>\n",
       "      <td>The release of Salman Khan's upcoming film Tub...</td>\n",
       "    </tr>\n",
       "    <tr>\n",
       "      <th>16911</th>\n",
       "      <td>85-year-old foils robbery attempt in Ireland</td>\n",
       "      <td>Denis O'Connor, an 85-year-old man foiled a ro...</td>\n",
       "    </tr>\n",
       "  </tbody>\n",
       "</table>\n",
       "</div>"
      ],
      "text/plain": [
       "                                               headlines  \\\n",
       "63235  US to classify data on Afghan forces' casualti...   \n",
       "23953  I'm Muslim and I wear bikini, it doesn't make ...   \n",
       "56159  No evidence against Indians over alleged Ashes...   \n",
       "95618  Baseball players lie down on the field as bees...   \n",
       "82828  India, China deploy 3,000 troops in Sikkim ami...   \n",
       "91868  A man once established a country in internatio...   \n",
       "70048  B'luru cops deny permission for 'Bol Aunty Aun...   \n",
       "70169  2200 primary schools in Odisha have only one c...   \n",
       "91066  Eid release of Salman's Tubelight being oppose...   \n",
       "16911       85-year-old foils robbery attempt in Ireland   \n",
       "\n",
       "                                                    text  \n",
       "63235  The US' Special Inspector General for Afghanis...  \n",
       "23953  Speaking about being trolled for posting pictu...  \n",
       "56159  The BCCI's Anti-Corruption and Security Unit c...  \n",
       "95618  A swarm of bees overtook a baseball field, sen...  \n",
       "82828  Both India and China have deployed around 3,00...  \n",
       "91868  Major Roy Bates, who served the British Army d...  \n",
       "70048  The Bengaluru Police has denied granting permi...  \n",
       "70169  At least 2,205 primary schools in Odisha have ...  \n",
       "91066  The release of Salman Khan's upcoming film Tub...  \n",
       "16911  Denis O'Connor, an 85-year-old man foiled a ro...  "
      ]
     },
     "execution_count": 3,
     "metadata": {},
     "output_type": "execute_result"
    }
   ],
   "source": [
    "data.sample(10)"
   ]
  },
  {
   "cell_type": "markdown",
   "id": "a601b577",
   "metadata": {},
   "source": [
    "### (2) 데이터 전처리"
   ]
  },
  {
   "cell_type": "code",
   "execution_count": 4,
   "id": "f7a514ba",
   "metadata": {},
   "outputs": [
    {
     "name": "stdout",
     "output_type": "stream",
     "text": [
      "Total sample num : 98401\n"
     ]
    }
   ],
   "source": [
    "print(\"Total sample num :\", len(data))"
   ]
  },
  {
   "cell_type": "code",
   "execution_count": 5,
   "id": "1170010c",
   "metadata": {},
   "outputs": [
    {
     "name": "stdout",
     "output_type": "stream",
     "text": [
      "Total unique sample num : 98360\n"
     ]
    }
   ],
   "source": [
    "data.drop_duplicates(subset = ['text'], inplace=True)\n",
    "data.dropna(axis=0, inplace=True)\n",
    "print('Total unique sample num :', len(data))"
   ]
  },
  {
   "cell_type": "markdown",
   "id": "7d536388",
   "metadata": {},
   "source": [
    "정규화 사전, 불용어, 정규표현식을 이용하여 data preprocessing을 수행한다."
   ]
  },
  {
   "cell_type": "code",
   "execution_count": 6,
   "id": "5c8270a0",
   "metadata": {},
   "outputs": [
    {
     "name": "stdout",
     "output_type": "stream",
     "text": [
      "contractions num : 120\n"
     ]
    }
   ],
   "source": [
    "# text normalization\n",
    "contractions = {\"ain't\": \"is not\", \"aren't\": \"are not\",\"can't\": \"cannot\", \"'cause\": \"because\", \"could've\": \"could have\", \"couldn't\": \"could not\",\n",
    "                           \"didn't\": \"did not\",  \"doesn't\": \"does not\", \"don't\": \"do not\", \"hadn't\": \"had not\", \"hasn't\": \"has not\", \"haven't\": \"have not\",\n",
    "                           \"he'd\": \"he would\",\"he'll\": \"he will\", \"he's\": \"he is\", \"how'd\": \"how did\", \"how'd'y\": \"how do you\", \"how'll\": \"how will\", \"how's\": \"how is\",\n",
    "                           \"I'd\": \"I would\", \"I'd've\": \"I would have\", \"I'll\": \"I will\", \"I'll've\": \"I will have\",\"I'm\": \"I am\", \"I've\": \"I have\", \"i'd\": \"i would\",\n",
    "                           \"i'd've\": \"i would have\", \"i'll\": \"i will\",  \"i'll've\": \"i will have\",\"i'm\": \"i am\", \"i've\": \"i have\", \"isn't\": \"is not\", \"it'd\": \"it would\",\n",
    "                           \"it'd've\": \"it would have\", \"it'll\": \"it will\", \"it'll've\": \"it will have\",\"it's\": \"it is\", \"let's\": \"let us\", \"ma'am\": \"madam\",\n",
    "                           \"mayn't\": \"may not\", \"might've\": \"might have\",\"mightn't\": \"might not\",\"mightn't've\": \"might not have\", \"must've\": \"must have\",\n",
    "                           \"mustn't\": \"must not\", \"mustn't've\": \"must not have\", \"needn't\": \"need not\", \"needn't've\": \"need not have\",\"o'clock\": \"of the clock\",\n",
    "                           \"oughtn't\": \"ought not\", \"oughtn't've\": \"ought not have\", \"shan't\": \"shall not\", \"sha'n't\": \"shall not\", \"shan't've\": \"shall not have\",\n",
    "                           \"she'd\": \"she would\", \"she'd've\": \"she would have\", \"she'll\": \"she will\", \"she'll've\": \"she will have\", \"she's\": \"she is\",\n",
    "                           \"should've\": \"should have\", \"shouldn't\": \"should not\", \"shouldn't've\": \"should not have\", \"so've\": \"so have\",\"so's\": \"so as\",\n",
    "                           \"this's\": \"this is\",\"that'd\": \"that would\", \"that'd've\": \"that would have\", \"that's\": \"that is\", \"there'd\": \"there would\",\n",
    "                           \"there'd've\": \"there would have\", \"there's\": \"there is\", \"here's\": \"here is\",\"they'd\": \"they would\", \"they'd've\": \"they would have\",\n",
    "                           \"they'll\": \"they will\", \"they'll've\": \"they will have\", \"they're\": \"they are\", \"they've\": \"they have\", \"to've\": \"to have\",\n",
    "                           \"wasn't\": \"was not\", \"we'd\": \"we would\", \"we'd've\": \"we would have\", \"we'll\": \"we will\", \"we'll've\": \"we will have\", \"we're\": \"we are\",\n",
    "                           \"we've\": \"we have\", \"weren't\": \"were not\", \"what'll\": \"what will\", \"what'll've\": \"what will have\", \"what're\": \"what are\",\n",
    "                           \"what's\": \"what is\", \"what've\": \"what have\", \"when's\": \"when is\", \"when've\": \"when have\", \"where'd\": \"where did\", \"where's\": \"where is\",\n",
    "                           \"where've\": \"where have\", \"who'll\": \"who will\", \"who'll've\": \"who will have\", \"who's\": \"who is\", \"who've\": \"who have\",\n",
    "                           \"why's\": \"why is\", \"why've\": \"why have\", \"will've\": \"will have\", \"won't\": \"will not\", \"won't've\": \"will not have\",\n",
    "                           \"would've\": \"would have\", \"wouldn't\": \"would not\", \"wouldn't've\": \"would not have\", \"y'all\": \"you all\",\n",
    "                           \"y'all'd\": \"you all would\",\"y'all'd've\": \"you all would have\",\"y'all're\": \"you all are\",\"y'all've\": \"you all have\",\n",
    "                           \"you'd\": \"you would\", \"you'd've\": \"you would have\", \"you'll\": \"you will\", \"you'll've\": \"you will have\",\n",
    "                           \"you're\": \"you are\", \"you've\": \"you have\"}\n",
    "print(\"contractions num :\", len(contractions))"
   ]
  },
  {
   "cell_type": "code",
   "execution_count": 9,
   "id": "99b5fc0d",
   "metadata": {
    "scrolled": true
   },
   "outputs": [
    {
     "name": "stdout",
     "output_type": "stream",
     "text": [
      "['i', 'me', 'my', 'myself', 'we', 'our', 'ours', 'ourselves', 'you', \"you're\", \"you've\", \"you'll\", \"you'd\", 'your', 'yours', 'yourself', 'yourselves', 'he', 'him', 'his', 'himself', 'she', \"she's\", 'her', 'hers', 'herself', 'it', \"it's\", 'its', 'itself', 'they', 'them', 'their', 'theirs', 'themselves', 'what', 'which', 'who', 'whom', 'this', 'that', \"that'll\", 'these', 'those', 'am', 'is', 'are', 'was', 'were', 'be', 'been', 'being', 'have', 'has', 'had', 'having', 'do', 'does', 'did', 'doing', 'a', 'an', 'the', 'and', 'but', 'if', 'or', 'because', 'as', 'until', 'while', 'of', 'at', 'by', 'for', 'with', 'about', 'against', 'between', 'into', 'through', 'during', 'before', 'after', 'above', 'below', 'to', 'from', 'up', 'down', 'in', 'out', 'on', 'off', 'over', 'under', 'again', 'further', 'then', 'once', 'here', 'there', 'when', 'where', 'why', 'how', 'all', 'any', 'both', 'each', 'few', 'more', 'most', 'other', 'some', 'such', 'no', 'nor', 'not', 'only', 'own', 'same', 'so', 'than', 'too', 'very', 's', 't', 'can', 'will', 'just', 'don', \"don't\", 'should', \"should've\", 'now', 'd', 'll', 'm', 'o', 're', 've', 'y', 'ain', 'aren', \"aren't\", 'couldn', \"couldn't\", 'didn', \"didn't\", 'doesn', \"doesn't\", 'hadn', \"hadn't\", 'hasn', \"hasn't\", 'haven', \"haven't\", 'isn', \"isn't\", 'ma', 'mightn', \"mightn't\", 'mustn', \"mustn't\", 'needn', \"needn't\", 'shan', \"shan't\", 'shouldn', \"shouldn't\", 'wasn', \"wasn't\", 'weren', \"weren't\", 'won', \"won't\", 'wouldn', \"wouldn't\"]\n",
      "stopwords num : 179\n"
     ]
    }
   ],
   "source": [
    "print(stopwords.words('english'))\n",
    "print('stopwords num :', len(stopwords.words('english') ))"
   ]
  },
  {
   "cell_type": "code",
   "execution_count": 11,
   "id": "443630ea",
   "metadata": {},
   "outputs": [],
   "source": [
    "def preprocess_sentence(sentence, remove_stopwords=True):\n",
    "    sentence = sentence.lower() # 텍스트 소문자화\n",
    "    sentence = BeautifulSoup(sentence, \"lxml\").text # html 태그 제거\n",
    "    sentence = re.sub(r'\\([^)]*\\)', '', sentence) # 괄호로 닫힌 문자열 제거\n",
    "    sentence = re.sub('\"','', sentence) # 쌍따옴표 \" 제거\n",
    "    sentence = ' '.join([contractions[t] if t in contractions else t for t in sentence.split(\" \")]) # 약어 정규화\n",
    "    sentence = re.sub(r\"'s\\b\",\"\", sentence) # 소유격 제거\n",
    "    sentence = re.sub(\"[^a-zA-Z]\", \" \", sentence) # 영어 외 문자 공백으로 변환\n",
    "    sentence = re.sub('[m]{2,}', 'mm', sentence) # m이 3개 이상이면 2개로 변경\n",
    "    \n",
    "    if remove_stopwords: # 불용어 제거 (text)\n",
    "        tokens = ' '.join(word for word in sentence.split() if not word in stopwords.words('english') if len(word) > 1)\n",
    "    else: # 불용어 미제거 (headlines)\n",
    "        tokens = ' '.join(word for word in sentence.split() if len(word) > 1)\n",
    "        \n",
    "    return tokens"
   ]
  },
  {
   "cell_type": "code",
   "execution_count": 12,
   "id": "9a0ca17e",
   "metadata": {
    "scrolled": false
   },
   "outputs": [
    {
     "name": "stdout",
     "output_type": "stream",
     "text": [
      "1000 / 98360\n",
      "2000 / 98360\n",
      "3000 / 98360\n",
      "4000 / 98360\n",
      "5000 / 98360\n",
      "6000 / 98360\n",
      "7000 / 98360\n",
      "8000 / 98360\n",
      "9000 / 98360\n",
      "10000 / 98360\n",
      "11000 / 98360\n",
      "12000 / 98360\n",
      "13000 / 98360\n",
      "14000 / 98360\n",
      "15000 / 98360\n",
      "16000 / 98360\n",
      "17000 / 98360\n",
      "18000 / 98360\n",
      "19000 / 98360\n",
      "20000 / 98360\n",
      "21000 / 98360\n",
      "22000 / 98360\n",
      "23000 / 98360\n",
      "24000 / 98360\n",
      "25000 / 98360\n",
      "26000 / 98360\n",
      "27000 / 98360\n",
      "28000 / 98360\n",
      "29000 / 98360\n",
      "30000 / 98360\n",
      "31000 / 98360\n",
      "32000 / 98360\n",
      "33000 / 98360\n",
      "34000 / 98360\n",
      "35000 / 98360\n",
      "36000 / 98360\n",
      "37000 / 98360\n",
      "38000 / 98360\n",
      "39000 / 98360\n",
      "40000 / 98360\n",
      "41000 / 98360\n",
      "42000 / 98360\n",
      "43000 / 98360\n",
      "44000 / 98360\n",
      "45000 / 98360\n",
      "46000 / 98360\n",
      "47000 / 98360\n",
      "48000 / 98360\n",
      "49000 / 98360\n",
      "50000 / 98360\n",
      "51000 / 98360\n",
      "52000 / 98360\n",
      "53000 / 98360\n",
      "54000 / 98360\n",
      "55000 / 98360\n",
      "56000 / 98360\n",
      "57000 / 98360\n",
      "58000 / 98360\n",
      "59000 / 98360\n",
      "60000 / 98360\n",
      "61000 / 98360\n",
      "62000 / 98360\n",
      "63000 / 98360\n",
      "64000 / 98360\n",
      "65000 / 98360\n",
      "66000 / 98360\n",
      "67000 / 98360\n",
      "68000 / 98360\n",
      "69000 / 98360\n",
      "70000 / 98360\n",
      "71000 / 98360\n",
      "72000 / 98360\n",
      "73000 / 98360\n",
      "74000 / 98360\n",
      "75000 / 98360\n",
      "76000 / 98360\n",
      "77000 / 98360\n",
      "78000 / 98360\n",
      "79000 / 98360\n",
      "80000 / 98360\n",
      "81000 / 98360\n",
      "82000 / 98360\n",
      "83000 / 98360\n",
      "84000 / 98360\n",
      "85000 / 98360\n",
      "86000 / 98360\n",
      "87000 / 98360\n",
      "88000 / 98360\n",
      "89000 / 98360\n",
      "90000 / 98360\n",
      "91000 / 98360\n",
      "92000 / 98360\n",
      "93000 / 98360\n",
      "94000 / 98360\n",
      "95000 / 98360\n",
      "96000 / 98360\n",
      "97000 / 98360\n",
      "98000 / 98360\n",
      "text 전처리 결과 : ['saurav kant alumnus upgrad iiit pg program machine learning artificial intelligence sr systems engineer infosys almost years work experience program upgrad degree career support helped transition data scientist tech mahindra salary hike upgrad online power learning powered lakh careers', 'kunal shah credit card bill payment platform cred gave users chance win free food swiggy one year pranav kaushik delhi techie bagged reward spending cred coins users get one cred coin per rupee bill paid used avail rewards brands like ixigo bookmyshow ubereats cult fit', 'new zealand defeated india wickets fourth odi hamilton thursday win first match five match odi series india lost international match rohit sharma captaincy consecutive victories dating back march match witnessed india getting seventh lowest total odi cricket history', 'aegon life iterm insurance plan customers enjoy tax benefits premiums paid save taxes plan provides life cover age years also customers options insure critical illnesses disability accidental death benefit rider life cover age years', 'speaking sexual harassment allegations rajkumar hirani sonam kapoor said known hirani many years true metoo movement get derailed metoo movement always believe woman case need reserve judgment added hirani accused assistant worked sanju']\n"
     ]
    }
   ],
   "source": [
    "# 전체 text 데이터에 대한 전처리\n",
    "clean_text = []\n",
    "n = 1\n",
    "\n",
    "for sentence in data['text']:\n",
    "    clean_text.append(preprocess_sentence(sentence))\n",
    "    \n",
    "    if n % 1000 == 0:\n",
    "        print(f\"{n} / {len(data['text'])}\")\n",
    "        \n",
    "    n += 1\n",
    "\n",
    "print(\"text 전처리 결과 :\", clean_text[:5])"
   ]
  },
  {
   "cell_type": "code",
   "execution_count": 13,
   "id": "1b97a175",
   "metadata": {},
   "outputs": [
    {
     "name": "stdout",
     "output_type": "stream",
     "text": [
      "10000 / 98360\n",
      "20000 / 98360\n",
      "30000 / 98360\n",
      "40000 / 98360\n",
      "50000 / 98360\n",
      "60000 / 98360\n",
      "70000 / 98360\n",
      "80000 / 98360\n",
      "90000 / 98360\n",
      "headlines 전처리 후 결과 : ['saurav kant an alumnus of upgrad and iiit pg program in machine learning and artificial intelligence was sr systems engineer at infosys with almost years of work experience the program and upgrad degree career support helped him transition to data scientist at tech mahindra with salary hike upgrad online power learning has powered lakh careers', 'kunal shah credit card bill payment platform cred gave users chance to win free food from swiggy for one year pranav kaushik delhi techie bagged this reward after spending cred coins users get one cred coin per rupee of bill paid which can be used to avail rewards from brands like ixigo bookmyshow ubereats cult fit and more', 'new zealand defeated india by wickets in the fourth odi at hamilton on thursday to win their first match of the five match odi series india lost an international match under rohit sharma captaincy after consecutive victories dating back to march the match witnessed india getting all out for their seventh lowest total in odi cricket history', 'with aegon life iterm insurance plan customers can enjoy tax benefits on your premiums paid and save up to on taxes the plan provides life cover up to the age of years also customers have options to insure against critical illnesses disability and accidental death benefit rider with life cover up to the age of years', 'speaking about the sexual harassment allegations against rajkumar hirani sonam kapoor said have known hirani for many years what if it is not true the metoo movement will get derailed in the metoo movement always believe woman but in this case we need to reserve our judgment she added hirani has been accused by an assistant who worked in sanju']\n"
     ]
    }
   ],
   "source": [
    "# 전체 headlines 데이터에 대한 전처리\n",
    "clean_headlines = []\n",
    "n = 1\n",
    "\n",
    "for sentence in data['headlines']:\n",
    "    clean_headlines.append(preprocess_sentence(sentence, False))\n",
    "    \n",
    "    if n % 10000 == 0:\n",
    "        print(f\"{n} / {len(data['headlines'])}\")\n",
    "        \n",
    "    n += 1\n",
    "\n",
    "print(\"headlines 전처리 후 결과 :\", clean_headlines[:5])"
   ]
  },
  {
   "cell_type": "markdown",
   "id": "395a3cbb",
   "metadata": {},
   "source": [
    "전처리 과정은 시간이 오래 걸리므로 새로운 데이터프레임에 저장해놓는다."
   ]
  },
  {
   "cell_type": "code",
   "execution_count": 29,
   "id": "870c4416",
   "metadata": {},
   "outputs": [],
   "source": [
    "data = pd.DataFrame()\n",
    "\n",
    "data['headlines'] = clean_headlines\n",
    "data['text'] = clean_text"
   ]
  },
  {
   "cell_type": "code",
   "execution_count": 30,
   "id": "fac9611e",
   "metadata": {},
   "outputs": [
    {
     "data": {
      "text/plain": [
       "headlines    0\n",
       "text         0\n",
       "dtype: int64"
      ]
     },
     "execution_count": 30,
     "metadata": {},
     "output_type": "execute_result"
    }
   ],
   "source": [
    "data.isnull().sum()"
   ]
  },
  {
   "cell_type": "code",
   "execution_count": 31,
   "id": "96205c1e",
   "metadata": {},
   "outputs": [
    {
     "name": "stdout",
     "output_type": "stream",
     "text": [
      "Total clean data num : 98360\n"
     ]
    }
   ],
   "source": [
    "print('Total clean data num :', (len(data)))"
   ]
  },
  {
   "cell_type": "code",
   "execution_count": 32,
   "id": "9dfbe332",
   "metadata": {},
   "outputs": [
    {
     "name": "stdout",
     "output_type": "stream",
     "text": [
      "텍스트의 최소 길이 : 1\n",
      "텍스트의 최대 길이 : 60\n",
      "텍스트의 평균 길이 : 35.09968483123221\n",
      "요약의 최소 길이 : 1\n",
      "요약의 최대 길이 : 69\n",
      "요약의 평균 길이 : 56.180195201301345\n"
     ]
    },
    {
     "data": {
      "image/png": "[encoded data removed]",
      "text/plain": [
       "<Figure size 432x288 with 2 Axes>"
      ]
     },
     "metadata": {
      "needs_background": "light"
     },
     "output_type": "display_data"
    },
    {
     "data": {
      "image/png": "[encoded data removed]",
      "text/plain": [
       "<Figure size 432x288 with 1 Axes>"
      ]
     },
     "metadata": {
      "needs_background": "light"
     },
     "output_type": "display_data"
    },
    {
     "data": {
      "image/png": "[encoded data removed]",
      "text/plain": [
       "<Figure size 432x288 with 1 Axes>"
      ]
     },
     "metadata": {
      "needs_background": "light"
     },
     "output_type": "display_data"
    }
   ],
   "source": [
    "# 길이 분포 출력\n",
    "import matplotlib.pyplot as plt\n",
    "\n",
    "text_len = [len(s.split()) for s in data['text']]\n",
    "headlines_len = [len(s.split()) for s in data['headlines']]\n",
    "\n",
    "print('텍스트의 최소 길이 : {}'.format(np.min(text_len)))\n",
    "print('텍스트의 최대 길이 : {}'.format(np.max(text_len)))\n",
    "print('텍스트의 평균 길이 : {}'.format(np.mean(text_len)))\n",
    "print('요약의 최소 길이 : {}'.format(np.min(headlines_len)))\n",
    "print('요약의 최대 길이 : {}'.format(np.max(headlines_len)))\n",
    "print('요약의 평균 길이 : {}'.format(np.mean(headlines_len)))\n",
    "\n",
    "plt.subplot(1,2,1)\n",
    "plt.boxplot(text_len)\n",
    "plt.title('Text')\n",
    "plt.subplot(1,2,2)\n",
    "plt.boxplot(headlines_len)\n",
    "plt.title('Headlines')\n",
    "plt.tight_layout()\n",
    "plt.show()\n",
    "\n",
    "plt.title('Text')\n",
    "plt.hist(text_len, bins = 40)\n",
    "plt.xlabel('length of samples')\n",
    "plt.ylabel('number of samples')\n",
    "plt.show()\n",
    "\n",
    "plt.title('Headlines')\n",
    "plt.hist(headlines_len, bins = 40)\n",
    "plt.xlabel('length of samples')\n",
    "plt.ylabel('number of samples')\n",
    "plt.show()"
   ]
  },
  {
   "cell_type": "code",
   "execution_count": 33,
   "id": "243cae63",
   "metadata": {},
   "outputs": [],
   "source": [
    "text_max_len = 40\n",
    "headlines_max_len = 60"
   ]
  },
  {
   "cell_type": "code",
   "execution_count": 34,
   "id": "d66c6c8d",
   "metadata": {},
   "outputs": [],
   "source": [
    "def below_threshold_len(max_len, nested_list):\n",
    "    cnt = 0\n",
    "    for s in nested_list:\n",
    "        if(len(s.split()) <= max_len):\n",
    "            cnt = cnt + 1\n",
    "    print('전체 샘플 중 길이가 %s 이하인 샘플의 비율: %s'%(max_len, (cnt / len(nested_list))))"
   ]
  },
  {
   "cell_type": "code",
   "execution_count": 35,
   "id": "ec3549f5",
   "metadata": {},
   "outputs": [
    {
     "name": "stdout",
     "output_type": "stream",
     "text": [
      "전체 샘플 중 길이가 40 이하인 샘플의 비율: 0.9238714924766165\n",
      "전체 샘플 중 길이가 60 이하인 샘플의 비율: 0.9443777958519723\n"
     ]
    }
   ],
   "source": [
    "below_threshold_len(text_max_len, data['text'])\n",
    "below_threshold_len(headlines_max_len, data['headlines'])"
   ]
  },
  {
   "cell_type": "markdown",
   "id": "18bdc4ec",
   "metadata": {},
   "source": [
    "### (3) input, output 데이터 나누기"
   ]
  },
  {
   "cell_type": "code",
   "execution_count": 37,
   "id": "ecc5dfec",
   "metadata": {},
   "outputs": [
    {
     "name": "stdout",
     "output_type": "stream",
     "text": [
      "전체 샘플수 : 86632\n"
     ]
    }
   ],
   "source": [
    "data = data[data['text'].apply(lambda x: len(x.split()) <= text_max_len)]\n",
    "data = data[data['headlines'].apply(lambda x: len(x.split()) <= headlines_max_len)]\n",
    "\n",
    "print('전체 샘플수 :', (len(data)))"
   ]
  },
  {
   "cell_type": "code",
   "execution_count": 38,
   "id": "d695ad11",
   "metadata": {},
   "outputs": [
    {
     "data": {
      "text/html": [
       "<div>\n",
       "<style scoped>\n",
       "    .dataframe tbody tr th:only-of-type {\n",
       "        vertical-align: middle;\n",
       "    }\n",
       "\n",
       "    .dataframe tbody tr th {\n",
       "        vertical-align: top;\n",
       "    }\n",
       "\n",
       "    .dataframe thead th {\n",
       "        text-align: right;\n",
       "    }\n",
       "</style>\n",
       "<table border=\"1\" class=\"dataframe\">\n",
       "  <thead>\n",
       "    <tr style=\"text-align: right;\">\n",
       "      <th></th>\n",
       "      <th>headlines</th>\n",
       "      <th>text</th>\n",
       "      <th>decoder_input</th>\n",
       "      <th>decoder_target</th>\n",
       "    </tr>\n",
       "  </thead>\n",
       "  <tbody>\n",
       "    <tr>\n",
       "      <th>0</th>\n",
       "      <td>saurav kant an alumnus of upgrad and iiit pg p...</td>\n",
       "      <td>saurav kant alumnus upgrad iiit pg program mac...</td>\n",
       "      <td>sostoken saurav kant an alumnus of upgrad and ...</td>\n",
       "      <td>saurav kant an alumnus of upgrad and iiit pg p...</td>\n",
       "    </tr>\n",
       "    <tr>\n",
       "      <th>2</th>\n",
       "      <td>new zealand defeated india by wickets in the f...</td>\n",
       "      <td>new zealand defeated india wickets fourth odi ...</td>\n",
       "      <td>sostoken new zealand defeated india by wickets...</td>\n",
       "      <td>new zealand defeated india by wickets in the f...</td>\n",
       "    </tr>\n",
       "    <tr>\n",
       "      <th>3</th>\n",
       "      <td>with aegon life iterm insurance plan customers...</td>\n",
       "      <td>aegon life iterm insurance plan customers enjo...</td>\n",
       "      <td>sostoken with aegon life iterm insurance plan ...</td>\n",
       "      <td>with aegon life iterm insurance plan customers...</td>\n",
       "    </tr>\n",
       "    <tr>\n",
       "      <th>4</th>\n",
       "      <td>speaking about the sexual harassment allegatio...</td>\n",
       "      <td>speaking sexual harassment allegations rajkuma...</td>\n",
       "      <td>sostoken speaking about the sexual harassment ...</td>\n",
       "      <td>speaking about the sexual harassment allegatio...</td>\n",
       "    </tr>\n",
       "    <tr>\n",
       "      <th>5</th>\n",
       "      <td>pakistani singer rahat fateh ali khan has deni...</td>\n",
       "      <td>pakistani singer rahat fateh ali khan denied r...</td>\n",
       "      <td>sostoken pakistani singer rahat fateh ali khan...</td>\n",
       "      <td>pakistani singer rahat fateh ali khan has deni...</td>\n",
       "    </tr>\n",
       "  </tbody>\n",
       "</table>\n",
       "</div>"
      ],
      "text/plain": [
       "                                           headlines  \\\n",
       "0  saurav kant an alumnus of upgrad and iiit pg p...   \n",
       "2  new zealand defeated india by wickets in the f...   \n",
       "3  with aegon life iterm insurance plan customers...   \n",
       "4  speaking about the sexual harassment allegatio...   \n",
       "5  pakistani singer rahat fateh ali khan has deni...   \n",
       "\n",
       "                                                text  \\\n",
       "0  saurav kant alumnus upgrad iiit pg program mac...   \n",
       "2  new zealand defeated india wickets fourth odi ...   \n",
       "3  aegon life iterm insurance plan customers enjo...   \n",
       "4  speaking sexual harassment allegations rajkuma...   \n",
       "5  pakistani singer rahat fateh ali khan denied r...   \n",
       "\n",
       "                                       decoder_input  \\\n",
       "0  sostoken saurav kant an alumnus of upgrad and ...   \n",
       "2  sostoken new zealand defeated india by wickets...   \n",
       "3  sostoken with aegon life iterm insurance plan ...   \n",
       "4  sostoken speaking about the sexual harassment ...   \n",
       "5  sostoken pakistani singer rahat fateh ali khan...   \n",
       "\n",
       "                                      decoder_target  \n",
       "0  saurav kant an alumnus of upgrad and iiit pg p...  \n",
       "2  new zealand defeated india by wickets in the f...  \n",
       "3  with aegon life iterm insurance plan customers...  \n",
       "4  speaking about the sexual harassment allegatio...  \n",
       "5  pakistani singer rahat fateh ali khan has deni...  "
      ]
     },
     "execution_count": 38,
     "metadata": {},
     "output_type": "execute_result"
    }
   ],
   "source": [
    "# 요약 데이터에는 시작 토큰과 종료 토큰을 추가\n",
    "data['decoder_input'] = data['headlines'].apply(lambda x : 'sostoken '+ x)\n",
    "data['decoder_target'] = data['headlines'].apply(lambda x : x + ' eostoken')\n",
    "data.head()"
   ]
  },
  {
   "cell_type": "code",
   "execution_count": 39,
   "id": "5b2fdf05",
   "metadata": {},
   "outputs": [],
   "source": [
    "encoder_input = np.array(data['text']) # 인코더의 입력\n",
    "decoder_input = np.array(data['decoder_input']) # 디코더의 입력\n",
    "decoder_target = np.array(data['decoder_target']) # 디코더의 레이블"
   ]
  },
  {
   "cell_type": "code",
   "execution_count": 40,
   "id": "1d34ffea",
   "metadata": {},
   "outputs": [
    {
     "name": "stdout",
     "output_type": "stream",
     "text": [
      "[40430  2612  7994 ... 18147 19088 50998]\n"
     ]
    }
   ],
   "source": [
    "indices = np.arange(encoder_input.shape[0])\n",
    "np.random.shuffle(indices)\n",
    "print(indices)"
   ]
  },
  {
   "cell_type": "code",
   "execution_count": 41,
   "id": "4055983a",
   "metadata": {},
   "outputs": [],
   "source": [
    "encoder_input = encoder_input[indices]\n",
    "decoder_input = decoder_input[indices]\n",
    "decoder_target = decoder_target[indices]"
   ]
  },
  {
   "cell_type": "code",
   "execution_count": 42,
   "id": "7b3630c4",
   "metadata": {},
   "outputs": [
    {
     "name": "stdout",
     "output_type": "stream",
     "text": [
      "테스트 데이터의 수 : 17326\n"
     ]
    }
   ],
   "source": [
    "n_of_val = int(len(encoder_input)*0.2)\n",
    "print('테스트 데이터의 수 :', n_of_val)"
   ]
  },
  {
   "cell_type": "code",
   "execution_count": 43,
   "id": "bf49bbd1",
   "metadata": {},
   "outputs": [
    {
     "name": "stdout",
     "output_type": "stream",
     "text": [
      "훈련 데이터의 개수 : 69306\n",
      "훈련 레이블의 개수 : 69306\n",
      "테스트 데이터의 개수 : 17326\n",
      "테스트 레이블의 개수 : 17326\n"
     ]
    }
   ],
   "source": [
    "encoder_input_train = encoder_input[:-n_of_val]\n",
    "decoder_input_train = decoder_input[:-n_of_val]\n",
    "decoder_target_train = decoder_target[:-n_of_val]\n",
    "\n",
    "encoder_input_test = encoder_input[-n_of_val:]\n",
    "decoder_input_test = decoder_input[-n_of_val:]\n",
    "decoder_target_test = decoder_target[-n_of_val:]\n",
    "\n",
    "print('훈련 데이터의 개수 :', len(encoder_input_train))\n",
    "print('훈련 레이블의 개수 :', len(decoder_input_train))\n",
    "print('테스트 데이터의 개수 :', len(encoder_input_test))\n",
    "print('테스트 레이블의 개수 :', len(decoder_input_test))"
   ]
  },
  {
   "cell_type": "markdown",
   "id": "6268d255",
   "metadata": {},
   "source": [
    "### (4) 정수 인코딩"
   ]
  },
  {
   "cell_type": "markdown",
   "id": "67f13180",
   "metadata": {},
   "source": [
    "__source tokenizing__"
   ]
  },
  {
   "cell_type": "code",
   "execution_count": 44,
   "id": "12496e5d",
   "metadata": {},
   "outputs": [],
   "source": [
    "src_tokenizer = Tokenizer() # 토크나이저 정의\n",
    "src_tokenizer.fit_on_texts(encoder_input_train) # 입력된 데이터로부터 단어 집합 생성"
   ]
  },
  {
   "cell_type": "code",
   "execution_count": 45,
   "id": "24dca796",
   "metadata": {},
   "outputs": [
    {
     "name": "stdout",
     "output_type": "stream",
     "text": [
      "단어 집합(vocabulary)의 크기 : 64806\n",
      "등장 빈도가 6번 이하인 희귀 단어의 수: 44300\n",
      "단어 집합에서 희귀 단어를 제외시킬 경우의 단어 집합의 크기 20506\n",
      "단어 집합에서 희귀 단어의 비율: 68.35786809863285\n",
      "전체 등장 빈도에서 희귀 단어 등장 빈도 비율: 3.7903023814729466\n"
     ]
    }
   ],
   "source": [
    "threshold = 7\n",
    "total_cnt = len(src_tokenizer.word_index) # 단어의 수\n",
    "rare_cnt = 0 # 등장 빈도수가 threshold보다 작은 단어의 개수를 카운트\n",
    "total_freq = 0 # 훈련 데이터의 전체 단어 빈도수 총 합\n",
    "rare_freq = 0 # 등장 빈도수가 threshold보다 작은 단어의 등장 빈도수의 총 합\n",
    "\n",
    "# 단어와 빈도수의 쌍(pair)을 key와 value로 받는다.\n",
    "for key, value in src_tokenizer.word_counts.items():\n",
    "    total_freq = total_freq + value\n",
    "\n",
    "    # 단어의 등장 빈도수가 threshold보다 작으면\n",
    "    if(value < threshold):\n",
    "        rare_cnt = rare_cnt + 1\n",
    "        rare_freq = rare_freq + value\n",
    "\n",
    "print('단어 집합(vocabulary)의 크기 :', total_cnt)\n",
    "print('등장 빈도가 %s번 이하인 희귀 단어의 수: %s'%(threshold - 1, rare_cnt))\n",
    "print('단어 집합에서 희귀 단어를 제외시킬 경우의 단어 집합의 크기 %s'%(total_cnt - rare_cnt))\n",
    "print(\"단어 집합에서 희귀 단어의 비율:\", (rare_cnt / total_cnt)*100)\n",
    "print(\"전체 등장 빈도에서 희귀 단어 등장 빈도 비율:\", (rare_freq / total_freq)*100)"
   ]
  },
  {
   "cell_type": "code",
   "execution_count": 46,
   "id": "8ffb9424",
   "metadata": {},
   "outputs": [],
   "source": [
    "src_vocab = 20000\n",
    "src_tokenizer = Tokenizer(num_words=src_vocab) # 단어 집합의 크기를 으로 제한\n",
    "src_tokenizer.fit_on_texts(encoder_input_train) # 단어 집합 재생성"
   ]
  },
  {
   "cell_type": "code",
   "execution_count": 47,
   "id": "39a85c4b",
   "metadata": {},
   "outputs": [
    {
     "name": "stdout",
     "output_type": "stream",
     "text": [
      "[[11172, 11886, 376, 1018, 3386, 3410, 4843, 436, 318, 637, 1260, 3410, 17976, 234, 400, 1122, 3411, 5078, 377, 1045, 1157, 5078, 53, 13130, 1, 11172, 3410, 6, 3913, 74, 4634, 6865, 436], [3939, 1962, 107, 2310, 5199, 2528, 137, 1409, 3714, 2283, 326, 6009, 4044, 1379, 540, 952, 19100, 4044, 2897, 294, 691, 331, 1449, 328, 209, 1409, 482, 4044, 538, 471, 4132, 12681, 2012, 552, 98], [3327, 35, 49, 215, 136, 37, 16, 1021, 251, 59, 1, 462, 1037, 136, 56, 300, 190, 1190, 1205, 13131, 955, 6163, 37, 35, 4, 68, 35, 359, 483, 84, 6295, 2627, 136, 116, 1158, 36]]\n"
     ]
    }
   ],
   "source": [
    "# 텍스트 시퀀스를 정수 시퀀스로 변환\n",
    "encoder_input_train = src_tokenizer.texts_to_sequences(encoder_input_train) \n",
    "encoder_input_test = src_tokenizer.texts_to_sequences(encoder_input_test)\n",
    "\n",
    "# 잘 진행되었는지 샘플 출력\n",
    "print(encoder_input_train[:3])"
   ]
  },
  {
   "cell_type": "markdown",
   "id": "c7520620",
   "metadata": {},
   "source": [
    "__target tokenizing__"
   ]
  },
  {
   "cell_type": "code",
   "execution_count": 48,
   "id": "4ec8b785",
   "metadata": {},
   "outputs": [],
   "source": [
    "tar_tokenizer = Tokenizer()\n",
    "tar_tokenizer.fit_on_texts(decoder_input_train)"
   ]
  },
  {
   "cell_type": "code",
   "execution_count": 50,
   "id": "b8d4c372",
   "metadata": {},
   "outputs": [
    {
     "name": "stdout",
     "output_type": "stream",
     "text": [
      "단어 집합(vocabulary)의 크기 : 64949\n",
      "등장 빈도가 6번 이하인 희귀 단어의 수: 44306\n",
      "단어 집합에서 희귀 단어를 제외시킬 경우의 단어 집합의 크기 20643\n",
      "단어 집합에서 희귀 단어의 비율: 68.21660071748603\n",
      "전체 등장 빈도에서 희귀 단어 등장 빈도 비율: 2.3023480847089086\n"
     ]
    }
   ],
   "source": [
    "threshold = 7\n",
    "total_cnt = len(tar_tokenizer.word_index) # 단어의 수\n",
    "rare_cnt = 0 # 등장 빈도수가 threshold보다 작은 단어의 개수를 카운트\n",
    "total_freq = 0 # 훈련 데이터의 전체 단어 빈도수 총 합\n",
    "rare_freq = 0 # 등장 빈도수가 threshold보다 작은 단어의 등장 빈도수의 총 합\n",
    "\n",
    "# 단어와 빈도수의 쌍(pair)을 key와 value로 받는다.\n",
    "for key, value in tar_tokenizer.word_counts.items():\n",
    "    total_freq = total_freq + value\n",
    "\n",
    "    # 단어의 등장 빈도수가 threshold보다 작으면\n",
    "    if(value < threshold):\n",
    "        rare_cnt = rare_cnt + 1\n",
    "        rare_freq = rare_freq + value\n",
    "\n",
    "print('단어 집합(vocabulary)의 크기 :', total_cnt)\n",
    "print('등장 빈도가 %s번 이하인 희귀 단어의 수: %s'%(threshold - 1, rare_cnt))\n",
    "print('단어 집합에서 희귀 단어를 제외시킬 경우의 단어 집합의 크기 %s'%(total_cnt - rare_cnt))\n",
    "print(\"단어 집합에서 희귀 단어의 비율:\", (rare_cnt / total_cnt)*100)\n",
    "print(\"전체 등장 빈도에서 희귀 단어 등장 빈도 비율:\", (rare_freq / total_freq)*100)"
   ]
  },
  {
   "cell_type": "code",
   "execution_count": 51,
   "id": "0266d9b4",
   "metadata": {},
   "outputs": [],
   "source": [
    "tar_vocab = 20000\n",
    "tar_tokenizer = Tokenizer(num_words=tar_vocab) \n",
    "tar_tokenizer.fit_on_texts(decoder_input_train)\n",
    "tar_tokenizer.fit_on_texts(decoder_target_train)"
   ]
  },
  {
   "cell_type": "code",
   "execution_count": 52,
   "id": "e6aaf881",
   "metadata": {},
   "outputs": [
    {
     "name": "stdout",
     "output_type": "stream",
     "text": [
      "input\n",
      "input  [[12, 11302, 12017, 7, 476, 1127, 3507, 3531, 8, 4965, 35, 3, 18, 538, 48, 418, 744, 1371, 3531, 18114, 329, 4, 120, 500, 10, 15, 11, 28, 1231, 86, 3532, 5200, 3, 226, 477, 1154, 21, 1267, 10, 15, 11, 28, 5200, 17, 106, 118, 14, 13262, 9, 11302, 3531, 29, 44, 4034, 144, 4755, 6989, 3, 18, 538], [12, 4060, 3, 25, 2078, 2, 183, 2428, 7, 5321, 2647, 2, 28, 222, 1522, 5, 3835, 2401, 52, 40, 426, 6133, 4165, 1, 1492, 643, 1061, 1, 19238, 10, 4165, 11, 25, 3016, 86, 391, 4, 166, 798, 431, 86, 1562, 2, 428, 302, 1522, 585, 4165, 7, 31, 641, 573, 4253, 3, 12812, 2128, 3, 655, 171], [12, 3448, 94, 110, 309, 221, 96, 60, 1130, 347, 6, 125, 9, 3, 564, 1146, 221, 122, 398, 281, 3, 18, 1300, 1315, 188, 13263, 1064, 15, 14, 6287, 8, 1, 96, 86, 1, 94, 15, 36, 15, 64, 135, 94, 2, 459, 25, 586, 4, 224, 155, 6419, 4, 2746, 221, 196, 176, 67, 53, 1268, 1, 95], [12, 876, 10, 7, 97, 405, 7, 995, 3, 1508, 1, 2836, 550, 8032, 10997, 1098, 5, 112, 14, 1611, 1788, 190, 845, 42, 9569, 2, 667, 1, 258, 40, 979, 1544, 2624, 74, 4463, 1080, 5, 316, 91, 1009, 298, 19, 14, 1200, 871, 2, 224, 74, 2475, 6, 5012, 758, 5, 1895, 8], [12, 75, 513, 1404, 19239, 22, 2194, 678, 143, 5, 4464, 6687, 612, 18115, 7, 31, 233, 1, 513, 7, 31, 3551, 16, 5, 2759, 16, 15476, 18116, 5, 723, 16, 2367, 5, 314, 16, 6349, 1, 55, 23, 44, 440, 7316, 9805, 1, 322, 4, 583, 107, 2978, 9805]]\n",
      "target\n",
      "decoder  [[11302, 12017, 7, 476, 1127, 3507, 3531, 8, 4965, 35, 3, 18, 538, 48, 418, 744, 1371, 3531, 18114, 329, 4, 120, 500, 10, 15, 11, 28, 1231, 86, 3532, 5200, 3, 226, 477, 1154, 21, 1267, 10, 15, 11, 28, 5200, 17, 106, 118, 14, 13262, 9, 11302, 3531, 29, 44, 4034, 144, 4755, 6989, 3, 18, 538, 13], [4060, 3, 25, 2078, 2, 183, 2428, 7, 5321, 2647, 2, 28, 222, 1522, 5, 3835, 2401, 52, 40, 426, 6133, 4165, 1, 1492, 643, 1061, 1, 19238, 10, 4165, 11, 25, 3016, 86, 391, 4, 166, 798, 431, 86, 1562, 2, 428, 302, 1522, 585, 4165, 7, 31, 641, 573, 4253, 3, 12812, 2128, 3, 655, 171, 13], [3448, 94, 110, 309, 221, 96, 60, 1130, 347, 6, 125, 9, 3, 564, 1146, 221, 122, 398, 281, 3, 18, 1300, 1315, 188, 13263, 1064, 15, 14, 6287, 8, 1, 96, 86, 1, 94, 15, 36, 15, 64, 135, 94, 2, 459, 25, 586, 4, 224, 155, 6419, 4, 2746, 221, 196, 176, 67, 53, 1268, 1, 95, 13], [876, 10, 7, 97, 405, 7, 995, 3, 1508, 1, 2836, 550, 8032, 10997, 1098, 5, 112, 14, 1611, 1788, 190, 845, 42, 9569, 2, 667, 1, 258, 40, 979, 1544, 2624, 74, 4463, 1080, 5, 316, 91, 1009, 298, 19, 14, 1200, 871, 2, 224, 74, 2475, 6, 5012, 758, 5, 1895, 8, 13], [75, 513, 1404, 19239, 22, 2194, 678, 143, 5, 4464, 6687, 612, 18115, 7, 31, 233, 1, 513, 7, 31, 3551, 16, 5, 2759, 16, 15476, 18116, 5, 723, 16, 2367, 5, 314, 16, 6349, 1, 55, 23, 44, 440, 7316, 9805, 1, 322, 4, 583, 107, 2978, 9805, 13]]\n"
     ]
    }
   ],
   "source": [
    "# 텍스트 시퀀스를 정수 시퀀스로 변환\n",
    "decoder_input_train = tar_tokenizer.texts_to_sequences(decoder_input_train) \n",
    "decoder_target_train = tar_tokenizer.texts_to_sequences(decoder_target_train)\n",
    "decoder_input_test = tar_tokenizer.texts_to_sequences(decoder_input_test)\n",
    "decoder_target_test = tar_tokenizer.texts_to_sequences(decoder_target_test)\n",
    "\n",
    "# 잘 변환되었는지 확인\n",
    "print('input')\n",
    "print('input ',decoder_input_train[:5])\n",
    "print('target')\n",
    "print('decoder ',decoder_target_train[:5])"
   ]
  },
  {
   "cell_type": "code",
   "execution_count": 53,
   "id": "456f8587",
   "metadata": {},
   "outputs": [
    {
     "name": "stdout",
     "output_type": "stream",
     "text": [
      "삭제할 훈련 데이터의 개수 : 0\n",
      "삭제할 테스트 데이터의 개수 : 0\n",
      "훈련 데이터의 개수 : 69306\n",
      "훈련 레이블의 개수 : 69306\n",
      "테스트 데이터의 개수 : 17326\n",
      "테스트 레이블의 개수 : 17326\n"
     ]
    }
   ],
   "source": [
    "drop_train = [index for index, sentence in enumerate(decoder_input_train) if len(sentence) == 1]\n",
    "drop_test = [index for index, sentence in enumerate(decoder_input_test) if len(sentence) == 1]\n",
    "\n",
    "print('삭제할 훈련 데이터의 개수 :', len(drop_train))\n",
    "print('삭제할 테스트 데이터의 개수 :', len(drop_test))\n",
    "\n",
    "encoder_input_train = [sentence for index, sentence in enumerate(encoder_input_train) if index not in drop_train]\n",
    "decoder_input_train = [sentence for index, sentence in enumerate(decoder_input_train) if index not in drop_train]\n",
    "decoder_target_train = [sentence for index, sentence in enumerate(decoder_target_train) if index not in drop_train]\n",
    "\n",
    "encoder_input_test = [sentence for index, sentence in enumerate(encoder_input_test) if index not in drop_test]\n",
    "decoder_input_test = [sentence for index, sentence in enumerate(decoder_input_test) if index not in drop_test]\n",
    "decoder_target_test = [sentence for index, sentence in enumerate(decoder_target_test) if index not in drop_test]\n",
    "\n",
    "print('훈련 데이터의 개수 :', len(encoder_input_train))\n",
    "print('훈련 레이블의 개수 :', len(decoder_input_train))\n",
    "print('테스트 데이터의 개수 :', len(encoder_input_test))\n",
    "print('테스트 레이블의 개수 :', len(decoder_input_test))"
   ]
  },
  {
   "cell_type": "code",
   "execution_count": 56,
   "id": "3794f42e",
   "metadata": {},
   "outputs": [],
   "source": [
    "# Padding\n",
    "encoder_input_train = pad_sequences(encoder_input_train, maxlen=text_max_len, padding='post')\n",
    "encoder_input_test = pad_sequences(encoder_input_test, maxlen=text_max_len, padding='post')\n",
    "\n",
    "decoder_input_train = pad_sequences(decoder_input_train, maxlen=headlines_max_len, padding='post')\n",
    "decoder_target_train = pad_sequences(decoder_target_train, maxlen=headlines_max_len, padding='post')\n",
    "decoder_input_test = pad_sequences(decoder_input_test, maxlen=headlines_max_len, padding='post')\n",
    "decoder_target_test = pad_sequences(decoder_target_test, maxlen=headlines_max_len, padding='post')"
   ]
  },
  {
   "cell_type": "markdown",
   "id": "49a2977c",
   "metadata": {},
   "source": [
    "### (5) 모델 설계하기"
   ]
  },
  {
   "cell_type": "markdown",
   "id": "7d7c1f28",
   "metadata": {},
   "source": [
    "__LSTM 3층으로 Encoder를 설계한다.__"
   ]
  },
  {
   "cell_type": "code",
   "execution_count": 57,
   "id": "f233f135",
   "metadata": {},
   "outputs": [],
   "source": [
    "from tensorflow.keras.layers import Input, LSTM, Embedding, Dense, Concatenate, TimeDistributed\n",
    "from tensorflow.keras.models import Model\n",
    "from tensorflow.keras.callbacks import EarlyStopping, ModelCheckpoint\n",
    "\n",
    "# 인코더 설계 시작\n",
    "embedding_dim = 128\n",
    "hidden_size = 256\n",
    "\n",
    "# 인코더\n",
    "encoder_inputs = Input(shape=(text_max_len,))\n",
    "\n",
    "# 인코더의 임베딩 층\n",
    "enc_emb = Embedding(src_vocab, embedding_dim)(encoder_inputs)\n",
    "\n",
    "# 인코더의 LSTM 1\n",
    "# encoder_lstm1 = LSTM(hidden_size, return_sequences=True, return_state=True ,dropout = 0.4, recurrent_dropout = 0.4)\n",
    "# recurrent dropout을 사용할 시 cuDNN을 사용할 수 없어서 recurrent dropout을 사용하지 않을 때보다 학습 시간이 오래 걸림\n",
    "encoder_lstm1 = LSTM(hidden_size, return_sequences=True, return_state=True ,dropout = 0.4)\n",
    "encoder_output1, state_h1, state_c1 = encoder_lstm1(enc_emb)\n",
    "\n",
    "# 인코더의 LSTM 2\n",
    "encoder_lstm2 = LSTM(hidden_size, return_sequences=True, return_state=True, dropout=0.4)\n",
    "encoder_output2, state_h2, state_c2 = encoder_lstm2(encoder_output1)\n",
    "\n",
    "# 인코더의 LSTM 3\n",
    "encoder_lstm3 = LSTM(hidden_size, return_state=True, return_sequences=True, dropout=0.4)\n",
    "encoder_outputs, state_h, state_c= encoder_lstm3(encoder_output2)"
   ]
  },
  {
   "cell_type": "markdown",
   "id": "c0673932",
   "metadata": {},
   "source": [
    "__LSTM 1층으로 Decoder를 설계한다.__"
   ]
  },
  {
   "cell_type": "code",
   "execution_count": null,
   "id": "e6eb75c4",
   "metadata": {},
   "outputs": [],
   "source": [
    "# 디코더의 임베딩 층\n",
    "dec_emb_layer = Embedding(tar_vocab, embedding_dim)(decoder_inputs)\n",
    "dec_emb = dec_emb_layer"
   ]
  },
  {
   "cell_type": "code",
   "execution_count": 58,
   "id": "3b7aab84",
   "metadata": {},
   "outputs": [],
   "source": [
    "# 디코더 설계\n",
    "decoder_inputs = Input(shape=(None,))\n",
    "\n",
    "# 디코더의 임베딩 층\n",
    "dec_emb = Embedding(tar_vocab, embedding_dim)(decoder_inputs)\n",
    "\n",
    "# 디코더의 LSTM\n",
    "decoder_lstm = LSTM(hidden_size, return_sequences=True, return_state=True, dropout=0.4)\n",
    "decoder_outputs, _, _ = decoder_lstm(dec_emb, initial_state=[state_h, state_c])"
   ]
  },
  {
   "cell_type": "code",
   "execution_count": 59,
   "id": "b9f7b527",
   "metadata": {},
   "outputs": [],
   "source": [
    "# 디코더의 출력층\n",
    "decoder_softmax_layer = Dense(tar_vocab, activation='softmax')\n",
    "decoder_softmax_outputs = decoder_softmax_layer(decoder_outputs) "
   ]
  },
  {
   "cell_type": "markdown",
   "id": "49c12173",
   "metadata": {},
   "source": [
    "__최종 모델의 형태는 다음과 같다.__"
   ]
  },
  {
   "cell_type": "code",
   "execution_count": 60,
   "id": "f2db3c94",
   "metadata": {},
   "outputs": [
    {
     "name": "stdout",
     "output_type": "stream",
     "text": [
      "Model: \"model\"\n",
      "__________________________________________________________________________________________________\n",
      "Layer (type)                    Output Shape         Param #     Connected to                     \n",
      "==================================================================================================\n",
      "input_1 (InputLayer)            [(None, 40)]         0                                            \n",
      "__________________________________________________________________________________________________\n",
      "embedding (Embedding)           (None, 40, 128)      2560000     input_1[0][0]                    \n",
      "__________________________________________________________________________________________________\n",
      "lstm (LSTM)                     [(None, 40, 256), (N 394240      embedding[0][0]                  \n",
      "__________________________________________________________________________________________________\n",
      "input_2 (InputLayer)            [(None, None)]       0                                            \n",
      "__________________________________________________________________________________________________\n",
      "lstm_1 (LSTM)                   [(None, 40, 256), (N 525312      lstm[0][0]                       \n",
      "__________________________________________________________________________________________________\n",
      "embedding_1 (Embedding)         (None, None, 128)    2560000     input_2[0][0]                    \n",
      "__________________________________________________________________________________________________\n",
      "lstm_2 (LSTM)                   [(None, 40, 256), (N 525312      lstm_1[0][0]                     \n",
      "__________________________________________________________________________________________________\n",
      "lstm_3 (LSTM)                   [(None, None, 256),  394240      embedding_1[0][0]                \n",
      "                                                                 lstm_2[0][1]                     \n",
      "                                                                 lstm_2[0][2]                     \n",
      "__________________________________________________________________________________________________\n",
      "dense (Dense)                   (None, None, 20000)  5140000     lstm_3[0][0]                     \n",
      "==================================================================================================\n",
      "Total params: 12,099,104\n",
      "Trainable params: 12,099,104\n",
      "Non-trainable params: 0\n",
      "__________________________________________________________________________________________________\n"
     ]
    }
   ],
   "source": [
    "# 모델 정의\n",
    "model = Model([encoder_inputs, decoder_inputs], decoder_softmax_outputs)\n",
    "model.summary()"
   ]
  },
  {
   "cell_type": "markdown",
   "id": "269419d9",
   "metadata": {},
   "source": [
    "### (6) 어텐션 메커니즘 적용"
   ]
  },
  {
   "cell_type": "code",
   "execution_count": 61,
   "id": "45dff9ea",
   "metadata": {},
   "outputs": [
    {
     "name": "stdout",
     "output_type": "stream",
     "text": [
      "Model: \"model_1\"\n",
      "__________________________________________________________________________________________________\n",
      "Layer (type)                    Output Shape         Param #     Connected to                     \n",
      "==================================================================================================\n",
      "input_1 (InputLayer)            [(None, 40)]         0                                            \n",
      "__________________________________________________________________________________________________\n",
      "embedding (Embedding)           (None, 40, 128)      2560000     input_1[0][0]                    \n",
      "__________________________________________________________________________________________________\n",
      "lstm (LSTM)                     [(None, 40, 256), (N 394240      embedding[0][0]                  \n",
      "__________________________________________________________________________________________________\n",
      "input_2 (InputLayer)            [(None, None)]       0                                            \n",
      "__________________________________________________________________________________________________\n",
      "lstm_1 (LSTM)                   [(None, 40, 256), (N 525312      lstm[0][0]                       \n",
      "__________________________________________________________________________________________________\n",
      "embedding_1 (Embedding)         (None, None, 128)    2560000     input_2[0][0]                    \n",
      "__________________________________________________________________________________________________\n",
      "lstm_2 (LSTM)                   [(None, 40, 256), (N 525312      lstm_1[0][0]                     \n",
      "__________________________________________________________________________________________________\n",
      "lstm_3 (LSTM)                   [(None, None, 256),  394240      embedding_1[0][0]                \n",
      "                                                                 lstm_2[0][1]                     \n",
      "                                                                 lstm_2[0][2]                     \n",
      "__________________________________________________________________________________________________\n",
      "attention_layer (AdditiveAttent (None, None, 256)    256         lstm_3[0][0]                     \n",
      "                                                                 lstm_2[0][0]                     \n",
      "__________________________________________________________________________________________________\n",
      "concat_layer (Concatenate)      (None, None, 512)    0           lstm_3[0][0]                     \n",
      "                                                                 attention_layer[0][0]            \n",
      "__________________________________________________________________________________________________\n",
      "dense_1 (Dense)                 (None, None, 20000)  10260000    concat_layer[0][0]               \n",
      "==================================================================================================\n",
      "Total params: 17,219,360\n",
      "Trainable params: 17,219,360\n",
      "Non-trainable params: 0\n",
      "__________________________________________________________________________________________________\n"
     ]
    }
   ],
   "source": [
    "from tensorflow.keras.layers import AdditiveAttention\n",
    "\n",
    "# 어텐션 층\n",
    "attn_layer = AdditiveAttention(name='attention_layer')\n",
    "\n",
    "# 인코더와 디코더의 모든 time step의 hidden state를 어텐션 층에 전달하고 결과를 리턴\n",
    "attn_out = attn_layer([decoder_outputs, encoder_outputs])\n",
    "\n",
    "# 어텐션의 결과와 디코더의 hidden state들을 연결\n",
    "decoder_concat_input = Concatenate(axis=-1, name='concat_layer')([decoder_outputs, attn_out])\n",
    "\n",
    "# 디코더의 출력층\n",
    "decoder_softmax_layer = Dense(tar_vocab, activation='softmax')\n",
    "decoder_softmax_outputs = decoder_softmax_layer(decoder_concat_input)\n",
    "\n",
    "# 모델 정의\n",
    "model = Model([encoder_inputs, decoder_inputs], decoder_softmax_outputs)\n",
    "model.summary()"
   ]
  },
  {
   "cell_type": "markdown",
   "id": "cdaacf05",
   "metadata": {},
   "source": [
    "### (7) 모델 훈련하기"
   ]
  },
  {
   "cell_type": "markdown",
   "id": "fca8c9b4",
   "metadata": {},
   "source": [
    "__Early Stopping__\n",
    "> val_loss을 관찰하다가, 검증 데이터의 손실이 줄어들지 않고 증가하는 현상이 n회(patience) 관측되면 학습을 멈추는 방식  \n",
    "> EarlyStopping이 작동하면 epochs가 아무리 크게 설정되어 있어도 모델 훈련을 최적점에서 멈출 수 있다.  \n",
    "\n",
    "> 단, patience가 0이 아닌 경우에는 훈련이 종료되었을 때 성능이 최고인 상황이 아닐 수 있다.  \n",
    "> 그래서 보통 학습 중에 모델을 저장하는 callback 함수를 같이 사용한다."
   ]
  },
  {
   "cell_type": "code",
   "execution_count": 62,
   "id": "ed47a35b",
   "metadata": {},
   "outputs": [
    {
     "name": "stdout",
     "output_type": "stream",
     "text": [
      "Epoch 1/50\n",
      "271/271 [==============================] - 138s 480ms/step - loss: 6.4124 - val_loss: 5.8463\n",
      "Epoch 2/50\n",
      "271/271 [==============================] - 131s 485ms/step - loss: 5.5215 - val_loss: 5.2008\n",
      "Epoch 3/50\n",
      "271/271 [==============================] - 131s 485ms/step - loss: 5.0524 - val_loss: 4.8933\n",
      "Epoch 4/50\n",
      "271/271 [==============================] - 132s 486ms/step - loss: 4.7562 - val_loss: 4.6369\n",
      "Epoch 5/50\n",
      "271/271 [==============================] - 131s 485ms/step - loss: 4.5146 - val_loss: 4.4289\n",
      "Epoch 6/50\n",
      "271/271 [==============================] - 132s 486ms/step - loss: 4.2957 - val_loss: 4.2105\n",
      "Epoch 7/50\n",
      "271/271 [==============================] - 131s 485ms/step - loss: 4.0729 - val_loss: 3.9814\n",
      "Epoch 8/50\n",
      "271/271 [==============================] - 131s 485ms/step - loss: 3.8381 - val_loss: 3.7152\n",
      "Epoch 9/50\n",
      "271/271 [==============================] - 132s 487ms/step - loss: 3.5968 - val_loss: 3.4353\n",
      "Epoch 10/50\n",
      "271/271 [==============================] - 132s 486ms/step - loss: 3.3576 - val_loss: 3.2150\n",
      "Epoch 11/50\n",
      "271/271 [==============================] - 132s 487ms/step - loss: 3.1266 - val_loss: 2.9077\n",
      "Epoch 12/50\n",
      "271/271 [==============================] - 132s 488ms/step - loss: 2.9060 - val_loss: 2.7366\n",
      "Epoch 13/50\n",
      "271/271 [==============================] - 132s 486ms/step - loss: 2.6938 - val_loss: 2.5768\n",
      "Epoch 14/50\n",
      "271/271 [==============================] - 132s 488ms/step - loss: 2.4944 - val_loss: 2.2250\n",
      "Epoch 15/50\n",
      "271/271 [==============================] - 132s 487ms/step - loss: 2.3068 - val_loss: 2.0441\n",
      "Epoch 16/50\n",
      "271/271 [==============================] - 132s 487ms/step - loss: 2.1267 - val_loss: 1.9920\n",
      "Epoch 17/50\n",
      "271/271 [==============================] - 132s 487ms/step - loss: 1.9448 - val_loss: 1.8596\n",
      "Epoch 18/50\n",
      "271/271 [==============================] - 132s 487ms/step - loss: 1.7733 - val_loss: 1.6951\n",
      "Epoch 19/50\n",
      "271/271 [==============================] - 132s 488ms/step - loss: 1.6188 - val_loss: 1.5127\n",
      "Epoch 20/50\n",
      "271/271 [==============================] - 132s 487ms/step - loss: 1.5175 - val_loss: 1.5271\n",
      "Epoch 21/50\n",
      "271/271 [==============================] - 132s 488ms/step - loss: 1.4269 - val_loss: 1.4217\n",
      "Epoch 22/50\n",
      "271/271 [==============================] - 132s 486ms/step - loss: 1.3597 - val_loss: 1.3899\n",
      "Epoch 23/50\n",
      "271/271 [==============================] - 132s 487ms/step - loss: 1.3188 - val_loss: 1.3943\n",
      "Epoch 24/50\n",
      "271/271 [==============================] - 132s 488ms/step - loss: 1.2676 - val_loss: 1.3233\n",
      "Epoch 25/50\n",
      "271/271 [==============================] - 132s 487ms/step - loss: 1.2415 - val_loss: 1.3180\n",
      "Epoch 26/50\n",
      "271/271 [==============================] - 132s 487ms/step - loss: 1.2132 - val_loss: 1.3038\n",
      "Epoch 27/50\n",
      "271/271 [==============================] - 132s 487ms/step - loss: 1.1774 - val_loss: 1.2684\n",
      "Epoch 28/50\n",
      "271/271 [==============================] - 132s 487ms/step - loss: 1.1525 - val_loss: 1.4940\n",
      "Epoch 29/50\n",
      "271/271 [==============================] - 132s 487ms/step - loss: 1.1339 - val_loss: 1.2828\n",
      "Epoch 00029: early stopping\n"
     ]
    }
   ],
   "source": [
    "model.compile(optimizer='rmsprop', loss='sparse_categorical_crossentropy')\n",
    "\n",
    "es = EarlyStopping(monitor='val_loss', patience=2, verbose=1)\n",
    "\n",
    "history = model.fit(x=[encoder_input_train, decoder_input_train], y=decoder_target_train, \\\n",
    "          validation_data=([encoder_input_test, decoder_input_test], decoder_target_test), \\\n",
    "          batch_size=256, callbacks=[es], epochs=50)"
   ]
  },
  {
   "cell_type": "code",
   "execution_count": 63,
   "id": "20f0497a",
   "metadata": {},
   "outputs": [
    {
     "data": {
      "image/png": "[encoded data removed]",
      "text/plain": [
       "<Figure size 432x288 with 1 Axes>"
      ]
     },
     "metadata": {
      "needs_background": "light"
     },
     "output_type": "display_data"
    }
   ],
   "source": [
    "# 데이터 시각화\n",
    "plt.plot(history.history['loss'], label='train')\n",
    "plt.plot(history.history['val_loss'], label='test')\n",
    "plt.legend()\n",
    "plt.show()"
   ]
  },
  {
   "cell_type": "markdown",
   "id": "bc7c8862",
   "metadata": {},
   "source": [
    "### (8) 인퍼런스 모델 구현"
   ]
  },
  {
   "cell_type": "markdown",
   "id": "8b7ccac5",
   "metadata": {},
   "source": [
    "seq2seq는 훈련할 때와 실제 동작할 때(인퍼런스 단계)의 방식이 다르므로 그에 맞게 모델 설계를 별개로 진행해야 한다."
   ]
  },
  {
   "cell_type": "code",
   "execution_count": 64,
   "id": "0e449b70",
   "metadata": {},
   "outputs": [],
   "source": [
    "src_index_to_word = src_tokenizer.index_word # 원문 단어 집합에서 정수 -> 단어를 얻음\n",
    "tar_word_to_index = tar_tokenizer.word_index # 요약 단어 집합에서 단어 -> 정수를 얻음\n",
    "tar_index_to_word = tar_tokenizer.index_word # 요약 단어 집합에서 정수 -> 단어를 얻음"
   ]
  },
  {
   "cell_type": "code",
   "execution_count": 66,
   "id": "3793fc6e",
   "metadata": {},
   "outputs": [],
   "source": [
    "# 인코더 설계\n",
    "encoder_model = Model(inputs=encoder_inputs, outputs=[encoder_outputs, state_h, state_c])\n",
    "\n",
    "# 이전 시점의 상태들을 저장하는 텐서\n",
    "decoder_state_input_h = Input(shape=(hidden_size,))\n",
    "decoder_state_input_c = Input(shape=(hidden_size,))\n",
    "\n",
    "dec_emb2 = dec_emb\n",
    "\n",
    "# 문장의 다음 단어를 예측하기 위해서 초기 상태(initial_state)를 이전 시점의 상태로 사용. 이는 뒤의 함수 decode_sequence()에 구현\n",
    "# 훈련 과정에서와 달리 LSTM의 리턴하는 은닉 상태와 셀 상태인 state_h와 state_c를 버리지 않음.\n",
    "decoder_outputs2, state_h2, state_c2 = decoder_lstm(dec_emb2, initial_state=[decoder_state_input_h, decoder_state_input_c])"
   ]
  },
  {
   "cell_type": "code",
   "execution_count": 67,
   "id": "e26f6fbf",
   "metadata": {},
   "outputs": [],
   "source": [
    "# 어텐션 함수\n",
    "decoder_hidden_state_input = Input(shape=(text_max_len, hidden_size))\n",
    "attn_out_inf = attn_layer([decoder_outputs2, decoder_hidden_state_input])\n",
    "decoder_inf_concat = Concatenate(axis=-1, name='concat')([decoder_outputs2, attn_out_inf])\n",
    "\n",
    "# 디코더의 출력층\n",
    "decoder_outputs2 = decoder_softmax_layer(decoder_inf_concat) \n",
    "\n",
    "# 최종 디코더 모델\n",
    "decoder_model = Model(\n",
    "    [decoder_inputs] + [decoder_hidden_state_input,decoder_state_input_h, decoder_state_input_c],\n",
    "    [decoder_outputs2] + [state_h2, state_c2])"
   ]
  },
  {
   "cell_type": "code",
   "execution_count": 68,
   "id": "8ba0f6af",
   "metadata": {},
   "outputs": [],
   "source": [
    "def decode_sequence(input_seq):\n",
    "    # 입력으로부터 인코더의 상태를 얻음\n",
    "    e_out, e_h, e_c = encoder_model.predict(input_seq)\n",
    "\n",
    "     # <SOS>에 해당하는 토큰 생성\n",
    "    target_seq = np.zeros((1,1))\n",
    "    target_seq[0, 0] = tar_word_to_index['sostoken']\n",
    "\n",
    "    stop_condition = False\n",
    "    decoded_sentence = ''\n",
    "    \n",
    "    while not stop_condition: # stop_condition이 True가 될 때까지 루프 반복\n",
    "        output_tokens, h, c = decoder_model.predict([target_seq] + [e_out, e_h, e_c])\n",
    "        sampled_token_index = np.argmax(output_tokens[0, -1, :])\n",
    "        sampled_token = tar_index_to_word[sampled_token_index]\n",
    "\n",
    "        if (sampled_token != 'eostoken'):\n",
    "            decoded_sentence += ' '+sampled_token\n",
    "\n",
    "        #  <eos>에 도달하거나 최대 길이를 넘으면 중단.\n",
    "        if (sampled_token == 'eostoken'  or len(decoded_sentence.split()) >= (headlines_max_len-1)):\n",
    "            stop_condition = True\n",
    "\n",
    "        # 길이가 1인 타겟 시퀀스를 업데이트\n",
    "        target_seq = np.zeros((1,1))\n",
    "        target_seq[0, 0] = sampled_token_index\n",
    "\n",
    "        # 상태를 업데이트 합니다.\n",
    "        e_h, e_c = h, c\n",
    "\n",
    "    return decoded_sentence"
   ]
  },
  {
   "cell_type": "markdown",
   "id": "72c12bcb",
   "metadata": {},
   "source": [
    "### (9) 모델 테스트 - 실제 결과와 요약문 비교"
   ]
  },
  {
   "cell_type": "code",
   "execution_count": 69,
   "id": "5c8b3ac9",
   "metadata": {},
   "outputs": [],
   "source": [
    "# 원문의 정수 시퀀스를 텍스트 시퀀스로 변환\n",
    "def seq2text(input_seq):\n",
    "    temp = ''\n",
    "    for i in input_seq:\n",
    "        if (i != 0):\n",
    "            temp = temp + src_index_to_word[i] + ' '\n",
    "    return temp\n",
    "\n",
    "# 요약문의 정수 시퀀스를 텍스트 시퀀스로 변환\n",
    "def seq2headlines(input_seq):\n",
    "    temp = ''\n",
    "    for i in input_seq:\n",
    "        if((i != 0 and i != tar_word_to_index['sostoken']) and i != tar_word_to_index['eostoken']):\n",
    "            temp = temp + tar_index_to_word[i] + ' '\n",
    "    return temp "
   ]
  },
  {
   "cell_type": "code",
   "execution_count": 71,
   "id": "010c5dde",
   "metadata": {
    "scrolled": false
   },
   "outputs": [
    {
     "name": "stdout",
     "output_type": "stream",
     "text": [
      "Original: eighty two year old tokyo japan works dj clubs night day works chinese restaurant owned spent year undergoing dj training local music school got energy goes beyond age equal young person said year old \n",
      "Summary: eighty two year old from tokyo japan works as dj in clubs at night during the day she works at chinese restaurant that is owned by her she spent year undergoing dj training in local music school she is got this energy that goes beyond age and that can equal any young person here said year old \n",
      "Abstract:  two eighty year old tokyo japan works dj clubs night day works at chinese restaurant owned by the year after undergoing dj training local music school got the energy to goes beyond the age of equal young person said the year old was the year old\n",
      "\n",
      "\n",
      "Original: wwe champion jinder mahal received customised jersey ipl champions mumbai indians hello india wwe champion jinder mahal cannot thank mumbai indian enough custom jersey name take pride wearing jersey mahal said receiving jersey \n",
      "Summary: wwe champion jinder mahal has received customised jersey from ipl champions mumbai indians hello india this is your wwe champion jinder mahal and cannot thank mumbai indian enough for this custom jersey with my name on it take pride in wearing this jersey mahal said after receiving the jersey \n",
      "Abstract:  wwe champion jinder mahal received customised jersey for ipl champions mumbai indians to hello india wwe champion alongside the mahal cannot thank mumbai for the indian enough custom jersey name will take pride wearing jersey mahal said receiving jersey\n",
      "\n",
      "\n",
      "Original: earthquake magnitude occurred afghanistan hindu region wednesday tremors felt several regions north india pakistan least one person died several others injured balochistan according reports meanwhile reports casualties damages india \n",
      "Summary: after an earthquake of magnitude occurred in afghanistan hindu region on wednesday tremors were felt in several regions of north india and pakistan at least one person died and several others were injured in balochistan according to reports meanwhile there have been no reports of casualties or damages in india \n",
      "Abstract:  magnitude earthquake occurred in afghanistan hindu region on wednesday after the clash felt several regions north india pakistan at least one person died in several others injured in balochistan according to reports meanwhile reports of casualties damages in india\n",
      "\n",
      "\n",
      "Original: information broadcasting ministry officials tuesday said press council india decide whether media use term dalit comes bombay high court asked ministry consider earlier ministry social justice empowerment advised ministries states use scheduled caste instead dalit \n",
      "Summary: the information and broadcasting ministry officials on tuesday said the press council of india will decide whether media can use the term dalit or not this comes after the bombay high court had asked the ministry to consider the same earlier the ministry of social justice and empowerment had advised ministries and states to use scheduled caste instead of dalit \n",
      "Abstract:  information and broadcasting ministry officials on tuesday said that press council of india will decide whether media use term dalit comes after bombay high court asked the ministry to consider earlier the ministry of social justice empowerment advised ministries of states to use scheduled caste instead dalit\n",
      "\n",
      "\n",
      "Original: wildlife involved smuggling body parts tigers leopards convicted madhya pradesh court awarded four years imprisonment along four others main accused arrested february year would traffic animal body parts international markets via nepal tibet special task force said \n",
      "Summary: wildlife involved in smuggling body parts of tigers and leopards was convicted by madhya pradesh court and awarded four years imprisonment along with four others the main accused was arrested in february this year would traffic animal body parts to international markets via nepal and tibet special task force said \n",
      "Abstract:  the wildlife involved smuggling body parts of tigers at the leopards convicted in madhya pradesh court has awarded four years imprisonment along four others main accused arrested in february this year would traffic animal body parts of international markets via nepal and tibet special task force said\n",
      "\n",
      "\n",
      "Original: commerce startup snapdeal chief technology officer rajiv resigned post earlier week online retailer spokesperson said previously worked adobe vice president engineering digital marketing joining snapdeal role december \n",
      "Summary: commerce startup snapdeal chief technology officer rajiv resigned from his post earlier this week the online retailer spokesperson said had previously worked in adobe as vice president of engineering and digital marketing before joining snapdeal in will be out of his role by december \n",
      "Abstract:  commerce startup snapdeal chief technology officer rajiv resigned from the post earlier this week online retailer spokesperson said previously worked with analytics vice president engineering digital marketing and joining snapdeal role in december\n",
      "\n",
      "\n",
      "Original: reference gandhi family pm narendra modi sunday asked people compare one family rule years development oriented bjp led nda government months addressing gathering puducherry pm modi also alleged union territory victim congress culture congress failed puducherry fronts pm modi added \n",
      "Summary: in reference to the gandhi family pm narendra modi on sunday asked people to compare one family rule for over years with the development oriented bjp led nda government months addressing gathering in puducherry pm modi also alleged the union territory had been victim of congress culture congress has failed puducherry on all fronts pm modi added \n",
      "Abstract:  the gandhi gandhi family pm narendra modi on sunday asked people to compare one family rule years development oriented bjp led nda government months addressing gathering puducherry pm modi also alleged union territory victim congress culture congress failed puducherry governments pm modi added he added he added\n",
      "\n",
      "\n",
      "Original: fashion designer chauhan showcased collection named golden threads assam amazon india fashion week creations included jackets dresses made silk outfits decorated like wheat flowers inspired fields assam \n",
      "Summary: fashion designer chauhan showcased his collection named golden threads of assam at the amazon india fashion week his creations which included jackets and dresses were made out of silk the outfits were decorated with like wheat and flowers inspired by the fields in assam \n",
      "Abstract:  fashion designer chauhan showcased collection named golden threads from assam amazon india fashion week after the festive included jackets dresses made silk outfits decorated with like wheat flowers inspired by fields assam\n",
      "\n",
      "\n",
      "Original: year old student suspended school us north carolina two days reportedly drew picture stick figure holding gun another holding knives official said schools heightened alert tragedy florida safety highest priority student father said expressing \n",
      "Summary: year old student was suspended from his school in us north carolina for two days after he reportedly drew picture of stick figure holding gun and another holding knives an official said schools are on heightened alert after the tragedy in florida and safety is our highest priority the student father said he was just expressing himself \n",
      "Abstract:  year old student was suspended from school in us north carolina for two days reportedly drew picture of stick figure holding gun another holding knives official said schools are heightened alert and tragedy florida safety the highest priority student father said expressing her\n",
      "\n",
      "\n",
      "Original: residents vadodara th cleanest city country sunday created guinness world record number people sweeping floor single venue people world record attempt witnessed around people event tribute prime minister narendra modi swachh bharat abhiyan \n",
      "Summary: residents of vadodara the th cleanest city in the country on sunday created guinness world record for most number of people sweeping the floor at single venue with people the world record attempt was witnessed by around people the event was tribute to prime minister narendra modi swachh bharat abhiyan \n"
     ]
    },
    {
     "name": "stdout",
     "output_type": "stream",
     "text": [
      "Abstract:  residents of vadodara th were the cleanest city in the country on sunday created guinness world record number of people sweeping floor single venue of people in world record attempt witnessed around people event tribute to prime minister narendra modi swachh bharat abhiyan\n",
      "\n",
      "\n",
      "Original: hackers stole crore pune bank august august cloned visa rupay debit cards hacking bank switch server fake switch server approved transactions worth crore countries august august nearly crore transferred hong kong swift transaction \n",
      "Summary: the hackers who stole crore from pune bank between august and august cloned visa and rupay debit cards by hacking the bank switch server the fake switch server approved transactions worth over crore in countries on august on august nearly crore was transferred to hong kong through swift transaction \n",
      "Abstract:  hackers stole crore pune bank in august on august after it was cloned visa and digital debit cards hacking bank switch server fake switch server approved by transactions worth crore in countries in august the august nearly crore transferred hong kong swift transaction\n",
      "\n",
      "\n",
      "Original: journalist barkha dutt responding censor board decision edit dutt name film noor tweeted barkha without dutt dear censor board kinda like minus public person rather think make name subject censorship added \n",
      "Summary: journalist barkha dutt while responding to censor board decision to edit out dutt from her name in the film noor tweeted barkha without the dutt dear censor board is kinda like minus am public person after all rather think to now make my name subject of censorship she added \n",
      "Abstract:  journalist journalist dutt while responding to censor board decision to edit dutt name in the film noor tweeted barkha without dutt dear censor board is not really like to have minus public person rather think make my name subject censorship he added\n",
      "\n",
      "\n",
      "Original: chicago woman sued hilton worldwide million saying filmed naked shower employee uploaded footage onto multiple porn sites woman recently learnt incident received video later email saying demanded besides month year \n",
      "Summary: chicago woman has sued hilton worldwide for million saying she was filmed naked in the shower by an employee who uploaded her footage onto multiple porn sites the woman recently learnt about the incident when she received the video and later an email saying am the demanded besides month for year \n",
      "Abstract:  chicago woman has sued the granddaughter worldwide for million saying she filmed naked shower employee uploaded footage onto multiple porn sites the woman recently learnt the incident received video of later email saying she demanded besides month this year\n",
      "\n",
      "\n",
      "Original: supreme court banned construction activities maharashtra madhya pradesh uttarakhand chandigarh till october interim order came states union territory failed comply court order come policy solid waste management attitude states union territories pathetic say least court said \n",
      "Summary: the supreme court has banned all construction activities in maharashtra madhya pradesh uttarakhand and chandigarh till october the interim order came after the states and the union territory failed to comply with the court order to come up with policy on solid waste management the attitude of the states union territories is pathetic to say the least the court said \n",
      "Abstract:  the supreme court has banned construction activities in maharashtra madhya pradesh uttarakhand chandigarh till october as interim order came states union territory failed to comply with court order come policy and solid waste management attitude states union territories and pathetic and say at least court said\n",
      "\n",
      "\n",
      "Original: pakistani court banned black friday sale nationwide calling contrary islamic teachings court ruling came response petition argued calling friday black crime since day religious significance muslims black friday traditionally day follows thanksgiving regarded beginning christmas shopping season \n",
      "Summary: pakistani court has banned the black friday sale nationwide calling it contrary to islamic teachings the court ruling came in response to petition that argued that calling friday black is crime since the day has religious significance for muslims black friday traditionally the day which follows thanksgiving is regarded as the beginning of the christmas shopping season \n",
      "Abstract:  pakistani court has banned black friday from the sale of nationwide calling contrary to islamic teachings court ruling came in response to petition argued calling friday black crime since day religious significance muslims black friday traditionally day follows the joy of regarded as beginning christmas shopping season\n",
      "\n",
      "\n",
      "Original: new australian cricket team coach justin langer said nearly died ball tampering incident came light hen saw cameron bancroft heart nearly came chest could believe added ball tampering scandal led bancroft steve smith david warner getting banned \n",
      "Summary: new australian cricket team coach justin langer has said that he nearly died when the ball tampering incident came to light hen saw it was cameron bancroft my heart nearly came out of my chest could not believe it he added the ball tampering scandal had led to bancroft steve smith and david warner getting banned \n",
      "Abstract:  australian new cricket team coach justin langer said nearly died of the ball tampering incident came after light hen saw cameron bancroft heart nearly came to the chest could believe he added the ball tampering scandal led by bancroft steve smith david warner and getting banned\n",
      "\n",
      "\n",
      "Original: manchester city thrashed burnley fa cup fourth round saturday record eighth successive victory across competitions gabriel jesus opened scoring city rd minute remaining four goals came second half including goal kevin long city scored goals seven games \n",
      "Summary: manchester city thrashed burnley in fa cup fourth round on saturday to record their eighth successive victory across all competitions gabriel jesus opened the scoring for city in the rd minute while the remaining four goals came in the second half including an own goal by kevin long city have now scored goals in seven games in \n",
      "Abstract:  manchester city thrashed burnley in fa cup fourth round on saturday record eighth successive victory across all competitions gabriel jesus opened in the city in the rd minute remaining four goals came second half including goal kevin and long city scored goals in seven games\n",
      "\n",
      "\n",
      "Original: road traffic sign california us hacked week display message read trump electronic signs typically placed warn drivers traffic delays authorities said signs locked secret password incident took place \n",
      "Summary: road traffic sign in california us was hacked this week to display message that read trump has the electronic signs are typically placed to warn drivers about traffic delays authorities said that the signs are locked with secret password but are of how the incident took place \n",
      "Abstract:  traffic traffic will sign california us hacked week display message read trump electronic signs of typically placed warn drivers traffic delays authorities said signs locked secret password incident took place\n",
      "\n",
      "\n",
      "Original: norwegian skier ban extended five months months doping case involving lip ban keep winter olympics february skier failed drug test ingested lip cream given treat burns \n",
      "Summary: norwegian skier ban has been extended by five months to months in doping case involving in lip the ban will keep out of winter olympics in february the skier had failed drug test after she ingested the through lip cream which was given to her to treat burns \n",
      "Abstract:  norwegian cyclist ban has extended five months months after doping case involving lip ban on keep winter olympics in february the toddler failed to drug test and was not ingested lip cream was given to treat burns\n",
      "\n",
      "\n",
      "Original: pakistani pacer hasan ali trolled sri lankan batsman pretending take catch ball ground thursday edged delivery know ball ali went near catch next delivery ali caught bowled dismissing \n",
      "Summary: pakistani pacer hasan ali trolled sri lankan batsman by pretending to take catch while the ball was on the ground during on thursday had edged delivery and did not know where the ball was before ali went near him and catch on the next delivery ali caught and bowled dismissing him \n"
     ]
    },
    {
     "name": "stdout",
     "output_type": "stream",
     "text": [
      "Abstract:  pakistani pacer hasan ali trolled sri lankan batsman after he was pretending to take catch with the ball on the ground on thursday edged delivery to know the ball ali went near the catch next delivery ali caught bowled out dismissing him and then dismissing him\n",
      "\n",
      "\n",
      "Original: west bengal bjp accused trinamool congress murdering democracy snatched away democratic rights tmc confident development done allow masses vote freely questioned widespread violence panchayat polls monday left least people dead injured \n",
      "Summary: the west bengal bjp has accused the trinamool congress of murdering democracy they have snatched away the democratic rights if the tmc is so confident of the development it has done then why did not it allow the masses to vote freely it questioned widespread violence during the panchayat polls on monday left at least people dead and over injured \n",
      "Abstract:  west bengal bjp accused trinamool congress of murdering democracy and snatched away democratic rights tmc has been confident that development done will allow the masses to vote freely questioned widespread violence panchayat polls on monday left at least people dead and injured\n",
      "\n",
      "\n",
      "Original: former president dr apj abdul kalam born october received honorary national international universities lifetime dr kalam served th president india awarded bharat ratna also called missile man played major role pokhran ii nuclear tests \n",
      "Summary: former president dr apj abdul kalam born on october received honorary from national and international universities during his lifetime dr kalam served as the th president of india from to and was awarded bharat ratna in also called the missile man he played major role in the pokhran ii nuclear tests \n",
      "Abstract:  former president dr apj abdul kalam born october has received honorary national international universities for his lifetime dr kalam served as the th president of india who was awarded bharat ratna also called missile man who played major role in pokhran ii nuclear tests\n",
      "\n",
      "\n",
      "Original: us judge dismissed shareholders lawsuit elon musk led tesla accusing carmaker misleading model vehicle production targets ruled tesla failed achieve production goals federal securities laws punish companies failing achieve targets plaintiffs given till september amend complaint \n",
      "Summary: us judge has dismissed the shareholders lawsuit against elon musk led tesla accusing the carmaker of misleading model vehicle production targets it was ruled that while tesla failed to achieve production goals federal securities laws do not punish companies for failing to achieve their targets further the plaintiffs have been given till september to amend their complaint \n",
      "Abstract:  us judge dismissed shareholders lawsuit against elon musk led tesla accusing carmaker of misleading model vehicle production targets ruled tesla failed to achieve production goals and federal securities laws and punish companies failing to achieve targets in the plaintiffs given till september and amend complaint\n",
      "\n",
      "\n",
      "Original: bjp backed joint declaration eleven political parties contest nagaland assembly elections naga insurgency issue resolved party suspended representatives signing declaration stating authority bjp said central leadership take final decision matter \n",
      "Summary: the bjp has backed out from joint declaration by eleven political parties to not contest the nagaland assembly elections until the naga insurgency issue is resolved the party suspended its representatives for signing the declaration stating they had no authority to do so the bjp said its central leadership will take final decision on the matter \n",
      "Abstract:  bjp backed joint declaration eleven political parties will contest nagaland assembly elections in the naga insurgency issue resolved the party suspended representatives signing declaration stating that the authority of bjp said the central leadership will take final decision on the matter\n",
      "\n",
      "\n",
      "Original: china set hold genetic screenings athletes hoping make cut winter olympics complete genome applied outstanding athletes competing winter games speed endurance explosive force least athletes group official document read genome determines person complete unique dna profile \n",
      "Summary: china is set to hold genetic screenings for athletes hoping to make the cut for the winter olympics complete genome will be applied on outstanding athletes competing in the winter games for speed endurance and explosive force with at least athletes in each group an official document read genome determines person complete unique dna profile \n",
      "Abstract:  china is set to hold genetic screenings of athletes hoping to make cut winter olympics complete the agreement which applied outstanding athletes competing at winter games speed of the tally of explosive force at least athletes group official document read the collective logic person complete unique dna profile\n",
      "\n",
      "\n",
      "Original: chinese smartphone maker xiaomi reportedly selected morgan stanley goldman sachs among international banks planned initial public offering credit suisse deutsche bank also chosen ipo targeting valuation billion reports added xiaomi valued billion could biggest ipo since alibaba billion debut \n",
      "Summary: chinese smartphone maker xiaomi has reportedly selected morgan stanley and goldman sachs among international banks for its planned initial public offering credit suisse and deutsche bank have also been chosen for ipo targeting valuation of billion reports added xiaomi which was valued at billion in could be the biggest ipo since alibaba billion debut \n",
      "Abstract:  chinese smartphone maker xiaomi has reportedly selected morgan stanley goldman sachs among international banks planned initial public offering credit suisse deutsche bank also chosen ipo targeting valuation of billion reports added xiaomi valued at billion could be biggest ipo since alibaba is about billion debut\n",
      "\n",
      "\n",
      "Original: canadian citizen karim responsible massive security breach yahoo sentenced five years prison prosecutors alleged russian security service hired target email accounts using information obtained yahoo hack indicted february last year pleaded guilty us later november \n",
      "Summary: canadian citizen karim who was responsible for massive security breach at yahoo in has been sentenced to five years in prison prosecutors alleged that the russian security service hired to target email accounts using information obtained from the yahoo hack was indicted in february last year and pleaded guilty in the us later in november \n",
      "Abstract:  canadian citizen karim was responsible for massive security breach yahoo has been sentenced to five years in prison prosecutors alleged russian security service hired target email accounts using information obtained from yahoo hack was indicted in february last year after he pleaded guilty to the us later november\n",
      "\n",
      "\n",
      "Original: india took three wickets last three balls win world encounter bangladesh march bengaluru needing win last bangladesh scored runs three deliveries giving away two catches ms dhoni ran rahman last ball help india win one run \n",
      "Summary: india took three wickets in the last three balls to win their world encounter against bangladesh on march in bengaluru needing to win off the last over bangladesh scored runs in three deliveries before giving away two catches ms dhoni ran out rahman off the last ball to help india win by one run \n",
      "Abstract:  india took three wickets last three balls win in the world encounter bangladesh on march bengaluru and conceded win last bangladesh scored runs in three deliveries giving away two catches ms dhoni ran rahman last ball to help india win one run\n",
      "\n",
      "\n",
      "Original: talking upcoming film india cricket world cup victory ranveer singh plays former indian cricketer kapil dev actor said hope kapil sir gives training tips ranveer added hopes gets dev bowling action correct titled film scheduled release april \n",
      "Summary: while talking about the upcoming film on india cricket world cup victory in which ranveer singh plays former indian cricketer kapil dev the actor said hope kapil sir gives me some training and tips ranveer added that he hopes he gets dev bowling action correct titled the film is scheduled to release on april \n"
     ]
    },
    {
     "name": "stdout",
     "output_type": "stream",
     "text": [
      "Abstract:  talking about his upcoming film india cricket world cup victory ranveer singh plays former indian cricketer kapil dev actor said hope kapil sir gives training tips ranveer added he hopes gets dev bowling action correct titled film is scheduled to release on april\n",
      "\n",
      "\n",
      "Original: team india accused australia leaking stories dressing room conversations media hosts reportedly looking take matter authorities per reports australian team manager introduced australian journalist match referee chris broad icc protocol india also accused australian media manager planting stories \n",
      "Summary: team india has accused australia of leaking stories and dressing room conversations to the media with the hosts reportedly looking to take up the matter with authorities as per reports australian team manager introduced an australian journalist to match referee chris broad which is against icc protocol india has also accused the australian media manager of planting stories \n",
      "Abstract:  team india accused australia leaking stories dressing room conversations with media hosts reportedly looking to take the matter authorities per reports australian team manager introduced australian journalist match referee chris broad icc protocol india also accused australian media manager of planting stories\n",
      "\n",
      "\n"
     ]
    }
   ],
   "source": [
    "for i in range(50, 80):\n",
    "    print(\"Original:\", seq2text(encoder_input_test[i]))\n",
    "    print(\"Summary:\", seq2headlines(decoder_input_test[i]))\n",
    "    print(\"Abstract:\", decode_sequence(encoder_input_test[i].reshape(1, text_max_len)))\n",
    "    print(\"\\n\")"
   ]
  },
  {
   "cell_type": "markdown",
   "id": "5e307d81",
   "metadata": {},
   "source": [
    "### (10) 추출적 요약 - Summa 이용"
   ]
  },
  {
   "cell_type": "code",
   "execution_count": 72,
   "id": "6c8cf3e6",
   "metadata": {},
   "outputs": [],
   "source": [
    "import requests\n",
    "from summa.summarizer import summarize"
   ]
  },
  {
   "cell_type": "code",
   "execution_count": 83,
   "id": "8510333b",
   "metadata": {},
   "outputs": [
    {
     "name": "stdout",
     "output_type": "stream",
     "text": [
      "former finance minister yashwant sinha tuesday demanded probe alleged diversion loans worth crore dewan housing finance agencies including regulators government failed track nefarious deals said comes media report tuesday accused dhfl controlling shareholders diverting funds shell companies buy assets\n"
     ]
    }
   ],
   "source": [
    "text = data['text'][50]\n",
    "print(text)"
   ]
  },
  {
   "cell_type": "code",
   "execution_count": 82,
   "id": "355995e8",
   "metadata": {},
   "outputs": [
    {
     "name": "stdout",
     "output_type": "stream",
     "text": [
      "<class 'str'>\n",
      "Summary:\n",
      "\n"
     ]
    }
   ],
   "source": [
    "text = data['text'][]\n",
    "print(type(text))\n",
    "print('Summary:')\n",
    "print(summarize(text, ratio=0.5))"
   ]
  },
  {
   "cell_type": "code",
   "execution_count": 79,
   "id": "c01dbd7b",
   "metadata": {},
   "outputs": [
    {
     "name": "stdout",
     "output_type": "stream",
     "text": [
      "<class 'str'>\n",
      "Summary:\n",
      "Trinity takes Neo to Morpheus.\n",
      "Morpheus, Trinity, Neo, Apoc, Switch, Mouse and Cypher are jacked into the Matrix.\n",
      "Trinity brings the helicopter down to the floor that Morpheus is on and Neo opens fire on the three Agents.\n"
     ]
    }
   ],
   "source": [
    "print(type(text))\n",
    "print('Summary:')\n",
    "print(summarize(text, words=50))"
   ]
  },
  {
   "cell_type": "code",
   "execution_count": null,
   "id": "cf93d3fb",
   "metadata": {},
   "outputs": [],
   "source": []
  },
  {
   "cell_type": "code",
   "execution_count": 74,
   "id": "8d7ed66f",
   "metadata": {},
   "outputs": [
    {
     "name": "stdout",
     "output_type": "stream",
     "text": [
      "Abstract:  two eighty year old tokyo japan works dj clubs night day works at chinese restaurant owned by the year after undergoing dj training local music school got the energy to goes beyond the age of equal young person said the year old was the year old\n",
      "Extract: \n",
      "\n",
      "\n",
      "Abstract:  wwe champion jinder mahal received customised jersey for ipl champions mumbai indians to hello india wwe champion alongside the mahal cannot thank mumbai for the indian enough custom jersey name will take pride wearing jersey mahal said receiving jersey\n",
      "Extract: \n",
      "\n",
      "\n"
     ]
    },
    {
     "ename": "KeyboardInterrupt",
     "evalue": "",
     "output_type": "error",
     "traceback": [
      "\u001b[0;31m---------------------------------------------------------------------------\u001b[0m",
      "\u001b[0;31mKeyboardInterrupt\u001b[0m                         Traceback (most recent call last)",
      "\u001b[0;32m/tmp/ipykernel_31/616803168.py\u001b[0m in \u001b[0;36m<module>\u001b[0;34m\u001b[0m\n\u001b[1;32m      3\u001b[0m \u001b[0;34m\u001b[0m\u001b[0m\n\u001b[1;32m      4\u001b[0m \u001b[0;32mfor\u001b[0m \u001b[0mi\u001b[0m \u001b[0;32min\u001b[0m \u001b[0mrange\u001b[0m\u001b[0;34m(\u001b[0m\u001b[0;36m50\u001b[0m\u001b[0;34m,\u001b[0m \u001b[0;36m80\u001b[0m\u001b[0;34m)\u001b[0m\u001b[0;34m:\u001b[0m\u001b[0;34m\u001b[0m\u001b[0;34m\u001b[0m\u001b[0m\n\u001b[0;32m----> 5\u001b[0;31m     \u001b[0ma\u001b[0m \u001b[0;34m=\u001b[0m \u001b[0mdecode_sequence\u001b[0m\u001b[0;34m(\u001b[0m\u001b[0mencoder_input_test\u001b[0m\u001b[0;34m[\u001b[0m\u001b[0mi\u001b[0m\u001b[0;34m]\u001b[0m\u001b[0;34m.\u001b[0m\u001b[0mreshape\u001b[0m\u001b[0;34m(\u001b[0m\u001b[0;36m1\u001b[0m\u001b[0;34m,\u001b[0m \u001b[0mtext_max_len\u001b[0m\u001b[0;34m)\u001b[0m\u001b[0;34m)\u001b[0m\u001b[0;34m\u001b[0m\u001b[0;34m\u001b[0m\u001b[0m\n\u001b[0m\u001b[1;32m      6\u001b[0m     \u001b[0me\u001b[0m \u001b[0;34m=\u001b[0m \u001b[0msummarize\u001b[0m\u001b[0;34m(\u001b[0m\u001b[0mseq2text\u001b[0m\u001b[0;34m(\u001b[0m\u001b[0mencoder_input_test\u001b[0m\u001b[0;34m[\u001b[0m\u001b[0mi\u001b[0m\u001b[0;34m]\u001b[0m\u001b[0;34m)\u001b[0m\u001b[0;34m,\u001b[0m \u001b[0mratio\u001b[0m\u001b[0;34m=\u001b[0m\u001b[0;36m0.1\u001b[0m\u001b[0;34m)\u001b[0m\u001b[0;34m\u001b[0m\u001b[0;34m\u001b[0m\u001b[0m\n\u001b[1;32m      7\u001b[0m     \u001b[0mprint\u001b[0m\u001b[0;34m(\u001b[0m\u001b[0;34m\"Abstract:\"\u001b[0m\u001b[0;34m,\u001b[0m \u001b[0ma\u001b[0m\u001b[0;34m)\u001b[0m\u001b[0;34m\u001b[0m\u001b[0;34m\u001b[0m\u001b[0m\n",
      "\u001b[0;32m/tmp/ipykernel_31/2924574803.py\u001b[0m in \u001b[0;36mdecode_sequence\u001b[0;34m(input_seq)\u001b[0m\n\u001b[1;32m     11\u001b[0m \u001b[0;34m\u001b[0m\u001b[0m\n\u001b[1;32m     12\u001b[0m     \u001b[0;32mwhile\u001b[0m \u001b[0;32mnot\u001b[0m \u001b[0mstop_condition\u001b[0m\u001b[0;34m:\u001b[0m \u001b[0;31m# stop_condition이 True가 될 때까지 루프 반복\u001b[0m\u001b[0;34m\u001b[0m\u001b[0;34m\u001b[0m\u001b[0m\n\u001b[0;32m---> 13\u001b[0;31m         \u001b[0moutput_tokens\u001b[0m\u001b[0;34m,\u001b[0m \u001b[0mh\u001b[0m\u001b[0;34m,\u001b[0m \u001b[0mc\u001b[0m \u001b[0;34m=\u001b[0m \u001b[0mdecoder_model\u001b[0m\u001b[0;34m.\u001b[0m\u001b[0mpredict\u001b[0m\u001b[0;34m(\u001b[0m\u001b[0;34m[\u001b[0m\u001b[0mtarget_seq\u001b[0m\u001b[0;34m]\u001b[0m \u001b[0;34m+\u001b[0m \u001b[0;34m[\u001b[0m\u001b[0me_out\u001b[0m\u001b[0;34m,\u001b[0m \u001b[0me_h\u001b[0m\u001b[0;34m,\u001b[0m \u001b[0me_c\u001b[0m\u001b[0;34m]\u001b[0m\u001b[0;34m)\u001b[0m\u001b[0;34m\u001b[0m\u001b[0;34m\u001b[0m\u001b[0m\n\u001b[0m\u001b[1;32m     14\u001b[0m         \u001b[0msampled_token_index\u001b[0m \u001b[0;34m=\u001b[0m \u001b[0mnp\u001b[0m\u001b[0;34m.\u001b[0m\u001b[0margmax\u001b[0m\u001b[0;34m(\u001b[0m\u001b[0moutput_tokens\u001b[0m\u001b[0;34m[\u001b[0m\u001b[0;36m0\u001b[0m\u001b[0;34m,\u001b[0m \u001b[0;34m-\u001b[0m\u001b[0;36m1\u001b[0m\u001b[0;34m,\u001b[0m \u001b[0;34m:\u001b[0m\u001b[0;34m]\u001b[0m\u001b[0;34m)\u001b[0m\u001b[0;34m\u001b[0m\u001b[0;34m\u001b[0m\u001b[0m\n\u001b[1;32m     15\u001b[0m         \u001b[0msampled_token\u001b[0m \u001b[0;34m=\u001b[0m \u001b[0mtar_index_to_word\u001b[0m\u001b[0;34m[\u001b[0m\u001b[0msampled_token_index\u001b[0m\u001b[0;34m]\u001b[0m\u001b[0;34m\u001b[0m\u001b[0;34m\u001b[0m\u001b[0m\n",
      "\u001b[0;32m/opt/conda/lib/python3.9/site-packages/keras/engine/training.py\u001b[0m in \u001b[0;36mpredict\u001b[0;34m(self, x, batch_size, verbose, steps, callbacks, max_queue_size, workers, use_multiprocessing)\u001b[0m\n\u001b[1;32m   1742\u001b[0m \u001b[0;34m\u001b[0m\u001b[0m\n\u001b[1;32m   1743\u001b[0m       \u001b[0mself\u001b[0m\u001b[0;34m.\u001b[0m\u001b[0mpredict_function\u001b[0m \u001b[0;34m=\u001b[0m \u001b[0mself\u001b[0m\u001b[0;34m.\u001b[0m\u001b[0mmake_predict_function\u001b[0m\u001b[0;34m(\u001b[0m\u001b[0;34m)\u001b[0m\u001b[0;34m\u001b[0m\u001b[0;34m\u001b[0m\u001b[0m\n\u001b[0;32m-> 1744\u001b[0;31m       \u001b[0mself\u001b[0m\u001b[0;34m.\u001b[0m\u001b[0m_predict_counter\u001b[0m\u001b[0;34m.\u001b[0m\u001b[0massign\u001b[0m\u001b[0;34m(\u001b[0m\u001b[0;36m0\u001b[0m\u001b[0;34m)\u001b[0m\u001b[0;34m\u001b[0m\u001b[0;34m\u001b[0m\u001b[0m\n\u001b[0m\u001b[1;32m   1745\u001b[0m       \u001b[0mcallbacks\u001b[0m\u001b[0;34m.\u001b[0m\u001b[0mon_predict_begin\u001b[0m\u001b[0;34m(\u001b[0m\u001b[0;34m)\u001b[0m\u001b[0;34m\u001b[0m\u001b[0;34m\u001b[0m\u001b[0m\n\u001b[1;32m   1746\u001b[0m       \u001b[0mbatch_outputs\u001b[0m \u001b[0;34m=\u001b[0m \u001b[0;32mNone\u001b[0m\u001b[0;34m\u001b[0m\u001b[0;34m\u001b[0m\u001b[0m\n",
      "\u001b[0;32m/opt/conda/lib/python3.9/site-packages/tensorflow/python/ops/resource_variable_ops.py\u001b[0m in \u001b[0;36massign\u001b[0;34m(self, value, use_locking, name, read_value)\u001b[0m\n\u001b[1;32m    892\u001b[0m     \u001b[0;32mwith\u001b[0m \u001b[0m_handle_graph\u001b[0m\u001b[0;34m(\u001b[0m\u001b[0mself\u001b[0m\u001b[0;34m.\u001b[0m\u001b[0mhandle\u001b[0m\u001b[0;34m)\u001b[0m\u001b[0;34m:\u001b[0m\u001b[0;34m\u001b[0m\u001b[0;34m\u001b[0m\u001b[0m\n\u001b[1;32m    893\u001b[0m       \u001b[0mvalue_tensor\u001b[0m \u001b[0;34m=\u001b[0m \u001b[0mops\u001b[0m\u001b[0;34m.\u001b[0m\u001b[0mconvert_to_tensor\u001b[0m\u001b[0;34m(\u001b[0m\u001b[0mvalue\u001b[0m\u001b[0;34m,\u001b[0m \u001b[0mdtype\u001b[0m\u001b[0;34m=\u001b[0m\u001b[0mself\u001b[0m\u001b[0;34m.\u001b[0m\u001b[0mdtype\u001b[0m\u001b[0;34m)\u001b[0m\u001b[0;34m\u001b[0m\u001b[0;34m\u001b[0m\u001b[0m\n\u001b[0;32m--> 894\u001b[0;31m       \u001b[0;32mif\u001b[0m \u001b[0;32mnot\u001b[0m \u001b[0mself\u001b[0m\u001b[0;34m.\u001b[0m\u001b[0m_shape\u001b[0m\u001b[0;34m.\u001b[0m\u001b[0mis_compatible_with\u001b[0m\u001b[0;34m(\u001b[0m\u001b[0mvalue_tensor\u001b[0m\u001b[0;34m.\u001b[0m\u001b[0mshape\u001b[0m\u001b[0;34m)\u001b[0m\u001b[0;34m:\u001b[0m\u001b[0;34m\u001b[0m\u001b[0;34m\u001b[0m\u001b[0m\n\u001b[0m\u001b[1;32m    895\u001b[0m         \u001b[0;32mif\u001b[0m \u001b[0mself\u001b[0m\u001b[0;34m.\u001b[0m\u001b[0mname\u001b[0m \u001b[0;32mis\u001b[0m \u001b[0;32mNone\u001b[0m\u001b[0;34m:\u001b[0m\u001b[0;34m\u001b[0m\u001b[0;34m\u001b[0m\u001b[0m\n\u001b[1;32m    896\u001b[0m           \u001b[0mtensor_name\u001b[0m \u001b[0;34m=\u001b[0m \u001b[0;34m\"\"\u001b[0m\u001b[0;34m\u001b[0m\u001b[0;34m\u001b[0m\u001b[0m\n",
      "\u001b[0;32m/opt/conda/lib/python3.9/site-packages/tensorflow/python/framework/ops.py\u001b[0m in \u001b[0;36mshape\u001b[0;34m(self)\u001b[0m\n\u001b[1;32m   1196\u001b[0m         \u001b[0;31m# `_tensor_shape` is declared and defined in the definition of\u001b[0m\u001b[0;34m\u001b[0m\u001b[0;34m\u001b[0m\u001b[0m\n\u001b[1;32m   1197\u001b[0m         \u001b[0;31m# `EagerTensor`, in C.\u001b[0m\u001b[0;34m\u001b[0m\u001b[0;34m\u001b[0m\u001b[0m\n\u001b[0;32m-> 1198\u001b[0;31m         \u001b[0mself\u001b[0m\u001b[0;34m.\u001b[0m\u001b[0m_tensor_shape\u001b[0m \u001b[0;34m=\u001b[0m \u001b[0mtensor_shape\u001b[0m\u001b[0;34m.\u001b[0m\u001b[0mTensorShape\u001b[0m\u001b[0;34m(\u001b[0m\u001b[0mself\u001b[0m\u001b[0;34m.\u001b[0m\u001b[0m_shape_tuple\u001b[0m\u001b[0;34m(\u001b[0m\u001b[0;34m)\u001b[0m\u001b[0;34m)\u001b[0m\u001b[0;34m\u001b[0m\u001b[0;34m\u001b[0m\u001b[0m\n\u001b[0m\u001b[1;32m   1199\u001b[0m       \u001b[0;32mexcept\u001b[0m \u001b[0mcore\u001b[0m\u001b[0;34m.\u001b[0m\u001b[0m_NotOkStatusException\u001b[0m \u001b[0;32mas\u001b[0m \u001b[0me\u001b[0m\u001b[0;34m:\u001b[0m\u001b[0;34m\u001b[0m\u001b[0;34m\u001b[0m\u001b[0m\n\u001b[1;32m   1200\u001b[0m         \u001b[0msix\u001b[0m\u001b[0;34m.\u001b[0m\u001b[0mraise_from\u001b[0m\u001b[0;34m(\u001b[0m\u001b[0mcore\u001b[0m\u001b[0;34m.\u001b[0m\u001b[0m_status_to_exception\u001b[0m\u001b[0;34m(\u001b[0m\u001b[0me\u001b[0m\u001b[0;34m.\u001b[0m\u001b[0mcode\u001b[0m\u001b[0;34m,\u001b[0m \u001b[0me\u001b[0m\u001b[0;34m.\u001b[0m\u001b[0mmessage\u001b[0m\u001b[0;34m)\u001b[0m\u001b[0;34m,\u001b[0m \u001b[0;32mNone\u001b[0m\u001b[0;34m)\u001b[0m\u001b[0;34m\u001b[0m\u001b[0;34m\u001b[0m\u001b[0m\n",
      "\u001b[0;32m/opt/conda/lib/python3.9/site-packages/tensorflow/python/framework/tensor_shape.py\u001b[0m in \u001b[0;36m__init__\u001b[0;34m(self, dims)\u001b[0m\n\u001b[1;32m    753\u001b[0m   \u001b[0m__slots__\u001b[0m \u001b[0;34m=\u001b[0m \u001b[0;34m[\u001b[0m\u001b[0;34m\"_dims\"\u001b[0m\u001b[0;34m]\u001b[0m\u001b[0;34m\u001b[0m\u001b[0;34m\u001b[0m\u001b[0m\n\u001b[1;32m    754\u001b[0m \u001b[0;34m\u001b[0m\u001b[0m\n\u001b[0;32m--> 755\u001b[0;31m   \u001b[0;32mdef\u001b[0m \u001b[0m__init__\u001b[0m\u001b[0;34m(\u001b[0m\u001b[0mself\u001b[0m\u001b[0;34m,\u001b[0m \u001b[0mdims\u001b[0m\u001b[0;34m)\u001b[0m\u001b[0;34m:\u001b[0m\u001b[0;34m\u001b[0m\u001b[0;34m\u001b[0m\u001b[0m\n\u001b[0m\u001b[1;32m    756\u001b[0m     \"\"\"Creates a new TensorShape with the given dimensions.\n\u001b[1;32m    757\u001b[0m \u001b[0;34m\u001b[0m\u001b[0m\n",
      "\u001b[0;31mKeyboardInterrupt\u001b[0m: "
     ]
    }
   ],
   "source": [
    "abstract = []\n",
    "extract = []\n",
    "\n",
    "for i in range(50, 80):\n",
    "    a = decode_sequence(encoder_input_test[i].reshape(1, text_max_len))\n",
    "    e = summarize(seq2text(encoder_input_test[i]), ratio=0.1)\n",
    "    print(\"Abstract:\", a)\n",
    "    print(\"Extract:\", e)\n",
    "    print(\"\\n\")\n",
    "    abstract.append(a)\n",
    "    extract.append(e)"
   ]
  },
  {
   "cell_type": "markdown",
   "id": "a4638d94",
   "metadata": {},
   "source": [
    "- 문법 완성도"
   ]
  },
  {
   "cell_type": "code",
   "execution_count": null,
   "id": "ee6a94e9",
   "metadata": {},
   "outputs": [],
   "source": []
  },
  {
   "cell_type": "markdown",
   "id": "6105482b",
   "metadata": {},
   "source": [
    "- 핵심 단어 포함"
   ]
  },
  {
   "cell_type": "code",
   "execution_count": null,
   "id": "8b5b9054",
   "metadata": {},
   "outputs": [],
   "source": []
  }
 ],
 "metadata": {
  "kernelspec": {
   "display_name": "Python 3 (ipykernel)",
   "language": "python",
   "name": "python3"
  },
  "language_info": {
   "codemirror_mode": {
    "name": "ipython",
    "version": 3
   },
   "file_extension": ".py",
   "mimetype": "text/x-python",
   "name": "python",
   "nbconvert_exporter": "python",
   "pygments_lexer": "ipython3",
   "version": "3.9.7"
  }
 },
 "nbformat": 4,
 "nbformat_minor": 5
}
